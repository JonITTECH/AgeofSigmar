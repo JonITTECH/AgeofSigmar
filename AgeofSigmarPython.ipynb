{
 "cells": [
  {
   "cell_type": "markdown",
   "id": "d57ecc3b-cefe-40c2-a409-80beab4caa18",
   "metadata": {},
   "source": [
    "### hacer un tableau interactivo, en el que al escoger la facción o la alianza te salgan cuáles son las estimaciones de precios"
   ]
  },
  {
   "cell_type": "markdown",
   "id": "c7327d83-6dd4-4def-9a8e-113a0ba7d621",
   "metadata": {},
   "source": [
    "# Libraries"
   ]
  },
  {
   "cell_type": "code",
   "execution_count": 1,
   "id": "ce1c0e82-b3a8-4ee9-8ad6-4e821a96bce5",
   "metadata": {},
   "outputs": [],
   "source": [
    "import pandas as pd\n",
    "import numpy as np\n",
    "import scipy.stats\n",
    "import seaborn as sns\n",
    "import matplotlib.pyplot as plt\n",
    "from sklearn.preprocessing import StandardScaler\n",
    "import streamlit as st\n",
    "from statsmodels.stats.multicomp import pairwise_tukeyhsd"
   ]
  },
  {
   "cell_type": "markdown",
   "id": "fae4721a-cd6c-42f7-a030-b7e569556a47",
   "metadata": {},
   "source": [
    "# Data load"
   ]
  },
  {
   "cell_type": "markdown",
   "id": "48aee449-197b-4bb0-bad9-9530ed3ad39a",
   "metadata": {},
   "source": [
    "We extract the information from the two pages of the Excel file"
   ]
  },
  {
   "cell_type": "code",
   "execution_count": 2,
   "id": "b8566ba2-ed86-452d-bb16-7e2df92039eb",
   "metadata": {},
   "outputs": [],
   "source": [
    "units = pd.read_excel(\"AgeofSigmardata.xlsx\", sheet_name=\"Units' Warscroll and Price\")\n",
    "weapons = pd.read_excel(\"AgeofSigmardata.xlsx\", sheet_name=\"Units' Weapons\")\n",
    "sigmar =  pd.merge(units, weapons, on='Unit')"
   ]
  },
  {
   "cell_type": "markdown",
   "id": "7190efef-101e-45b8-be28-812bbc95fb40",
   "metadata": {},
   "source": [
    "## Characteristics"
   ]
  },
  {
   "cell_type": "markdown",
   "id": "fe647e86-ebce-41ce-8c2d-7699e97d17e0",
   "metadata": {},
   "source": [
    "#### Unit Characteristics"
   ]
  },
  {
   "cell_type": "markdown",
   "id": "d30a662d-7c91-45ab-8a4a-05c195efa745",
   "metadata": {},
   "source": [
    "**Grand Alliance**: Refers to the larger faction or coalition under which various armies and factions unite."
   ]
  },
  {
   "cell_type": "markdown",
   "id": "48fe6a98-bc55-440c-817f-350bfe92f2d6",
   "metadata": {},
   "source": [
    "**Faction**: Represents a specific army or group within a Grand Alliance. Each faction has its unique characteristics, units, and abilities."
   ]
  },
  {
   "cell_type": "markdown",
   "id": "db4197db-19d7-4e3e-a0f2-ad01d5a88c99",
   "metadata": {},
   "source": [
    "**Move**: The distance a unit can move in inches during its movement phase."
   ]
  },
  {
   "cell_type": "markdown",
   "id": "7835cf6b-1841-44f8-acee-169cef3f7a6d",
   "metadata": {},
   "source": [
    "**Wounds**: The total number of wounds a unit can endure before being removed from play."
   ]
  },
  {
   "cell_type": "markdown",
   "id": "1f9adea9-faae-4541-a068-a22d0f15b766",
   "metadata": {},
   "source": [
    "**Save**: The value needed on a six-sided die to successfully save against an attack."
   ]
  },
  {
   "cell_type": "markdown",
   "id": "c4e3e6f4-85fd-4f7c-b7ba-45f7a8dba674",
   "metadata": {},
   "source": [
    "**Bravery**: This statistic represents the unit's morale or courage on the battlefield. When a unit suffers wounds, it may be required to take a Bravery test during the Battle Shock phase. To determine if the unit passes the test, roll a six-sided die and add the number of wounds the unit suffered that turn. If the result is less than or equal to the unit's Bravery value, it passes the test and remains in play. If the result exceeds the Bravery value, the unit may suffer additional casualties as models flee from the battlefield."
   ]
  },
  {
   "cell_type": "markdown",
   "id": "0ad82707-b327-42ea-aeed-42a62b7ea453",
   "metadata": {},
   "source": [
    "**Price**: The cost in terms of in-game currency (e.g., points, gold) to include the unit in your army."
   ]
  },
  {
   "cell_type": "markdown",
   "id": "9403c648-0e95-40b1-8b8c-d6423313d096",
   "metadata": {},
   "source": [
    "**Points**: The actual in-game points assigned to the unit, which are used to balance forces in a match.\n"
   ]
  },
  {
   "cell_type": "markdown",
   "id": "8b428c62-0902-4643-bb4a-a792fd846357",
   "metadata": {},
   "source": [
    "#### Weapon Characteristics"
   ]
  },
  {
   "cell_type": "markdown",
   "id": "861d727d-8137-4112-94ac-ff6a0b60208b",
   "metadata": {},
   "source": [
    "**Kind**: The type of weapon, specifying its characteristics and potential special rules."
   ]
  },
  {
   "cell_type": "markdown",
   "id": "b43b0452-d02e-4362-ba1f-db347de62a77",
   "metadata": {},
   "source": [
    "**Range**: The maximum distance in inches at which the weapon can be used effectively."
   ]
  },
  {
   "cell_type": "markdown",
   "id": "fb1ba3ad-1e7e-4a25-80db-702754c04e52",
   "metadata": {},
   "source": [
    "**Attacks**: The number of attacks the weapon can make in a single round of combat."
   ]
  },
  {
   "cell_type": "markdown",
   "id": "c92b7d3d-c1e7-4369-a927-989213627c33",
   "metadata": {},
   "source": [
    "**To Hit**: The value needed on a six-sided die to successfully hit the target with the weapon, once you successfully hit them."
   ]
  },
  {
   "cell_type": "markdown",
   "id": "4cc07c93-d659-4c0d-aae8-1e5bf2f34b48",
   "metadata": {},
   "source": [
    "**To Wound**: The value needed on a six-sided die to successfully wound the target with the weapon."
   ]
  },
  {
   "cell_type": "markdown",
   "id": "ea128707-f2d6-4c94-a678-6aaf27262c3f",
   "metadata": {},
   "source": [
    "**Rend**: The negative modifier applied to the opponent's save roll when the weapon inflicts damage."
   ]
  },
  {
   "cell_type": "markdown",
   "id": "82bc5f62-ffe0-4434-99b7-f0e56b795b0e",
   "metadata": {},
   "source": [
    "**Damage**: The amount of damage each successful hit with the weapon inflicts on the target."
   ]
  },
  {
   "cell_type": "markdown",
   "id": "55dee9d4-04c7-4e0f-b6e9-a036b8c7a8a9",
   "metadata": {},
   "source": [
    "# Data Transformation"
   ]
  },
  {
   "cell_type": "markdown",
   "id": "9e5620fb-2dcf-4875-aa54-d3337cb14d71",
   "metadata": {},
   "source": [
    "**'To Hit'** means the value needed on a die to hit the target, so we are going to convert it to a percentage over 1 (2 decimals)"
   ]
  },
  {
   "cell_type": "code",
   "execution_count": 3,
   "id": "95113ce7-a101-421e-afcf-a7263b84ce0f",
   "metadata": {},
   "outputs": [],
   "source": [
    "sigmar['To Hit'] = round(1 - sigmar['To Hit'] / 6, 2)"
   ]
  },
  {
   "cell_type": "markdown",
   "id": "b866f041-36c5-4780-82a6-305d629b4f4a",
   "metadata": {},
   "source": [
    "**'To Wound'** means the value needed on a die to wound the target, once you successfully hit them, so we are going to change it as we did with 'To Hit'"
   ]
  },
  {
   "cell_type": "code",
   "execution_count": 4,
   "id": "125187d2-f5f5-4f6d-92bf-c90fe9e0aca7",
   "metadata": {},
   "outputs": [],
   "source": [
    "sigmar['To Wound'] = round(1 - sigmar['To Wound'] / 6, 2)"
   ]
  },
  {
   "cell_type": "markdown",
   "id": "59d67764-57f1-4890-ac11-11898d5f89d1",
   "metadata": {},
   "source": [
    "We want to create a column that tells us the probability of hitting the target and causing a wound: **'To Hit & Wound'**"
   ]
  },
  {
   "cell_type": "code",
   "execution_count": 5,
   "id": "7d2b5ef9-0ee1-4a99-9418-6cb9598998a4",
   "metadata": {},
   "outputs": [],
   "source": [
    "sigmar['To Hit & Wound'] = round(sigmar['To Hit'] * sigmar['To Wound'], 2)"
   ]
  },
  {
   "cell_type": "markdown",
   "id": "9f6a2aab-984f-49af-9124-a14c624b8ca4",
   "metadata": {},
   "source": [
    "We would like to have a column that tells us the overall expectation of generating damage: **'Expected Total Damage'**"
   ]
  },
  {
   "cell_type": "code",
   "execution_count": 6,
   "id": "09908325-8932-482b-89ef-f2cef1d90280",
   "metadata": {},
   "outputs": [],
   "source": [
    "sigmar['Expected Total Damage'] = sigmar['Damage'] * sigmar['To Hit & Wound'] * sigmar['Attacks']"
   ]
  },
  {
   "cell_type": "markdown",
   "id": "36d45715-e3a2-4425-bf10-2c1c1fb8fd5e",
   "metadata": {},
   "source": [
    "**'Rend'** is a variable that depends on the opponent's 'Save' value, subtracting from it, so we are going to make it positive without applying it to any common calculation, as the 'Save' variable has too many options"
   ]
  },
  {
   "cell_type": "code",
   "execution_count": 7,
   "id": "06eea304-6c6b-44e2-a888-48203753e006",
   "metadata": {},
   "outputs": [],
   "source": [
    "sigmar['Rend'] = sigmar['Rend'].abs()"
   ]
  },
  {
   "cell_type": "markdown",
   "id": "4bfe4726-bfe5-4749-b980-9fc17de0e546",
   "metadata": {},
   "source": [
    "As **'Save'** indicates the number from which you save yourself, I'm changing the column so it calculates, based on the value in 'Save', what is the probability of saving yourself"
   ]
  },
  {
   "cell_type": "code",
   "execution_count": 8,
   "id": "0798357e-8acc-4dcd-bd45-0ef1689f7ae5",
   "metadata": {},
   "outputs": [],
   "source": [
    "sigmar['Save'] = round((7 - sigmar['Save']) / 6, 2)"
   ]
  },
  {
   "cell_type": "markdown",
   "id": "9ea7e344-b588-4cf1-88e9-8a541680388e",
   "metadata": {},
   "source": [
    "Regarding **'Bravery'**, let's alculate the probability of rolling a number less than or equal to x on a six-sided die (after adding 1 of damage). As the main 'Expected Total Damage' is 0.50, we're using 1 instead, so it's more significative for this measure."
   ]
  },
  {
   "cell_type": "code",
   "execution_count": 9,
   "id": "71f1d95b-ce0a-4199-80e1-afe3fb46a233",
   "metadata": {},
   "outputs": [],
   "source": [
    "sigmar['Bravery'] =  round((sigmar['Bravery'] - 1) / 6, 2)"
   ]
  },
  {
   "cell_type": "markdown",
   "id": "c4fd7a0f-1618-4f4f-bb61-f84b82786bf1",
   "metadata": {},
   "source": [
    "Let's just fix these little things as well"
   ]
  },
  {
   "cell_type": "code",
   "execution_count": 10,
   "id": "f8a1ea92-ad3a-4d39-aaab-59e045121536",
   "metadata": {},
   "outputs": [],
   "source": [
    "sigmar['Kind'] = sigmar['Kind'].str.strip()"
   ]
  },
  {
   "cell_type": "code",
   "execution_count": 11,
   "id": "1bd53bcd-5b48-4541-ac83-6e839004532d",
   "metadata": {},
   "outputs": [],
   "source": [
    "sigmar['Kind'] = sigmar['Kind'].replace('Misile weapon', 'Missile weapon')"
   ]
  },
  {
   "cell_type": "code",
   "execution_count": 12,
   "id": "35ee6423-8b9f-4594-9503-7887ef093c58",
   "metadata": {},
   "outputs": [],
   "source": [
    "# let's save it\n",
    "sigmar.to_excel('sigmar_modified.xlsx', index=False)"
   ]
  },
  {
   "cell_type": "markdown",
   "id": "a021c73b-1531-4bc9-baec-f5bffbca7044",
   "metadata": {},
   "source": [
    "# Data Exploration"
   ]
  },
  {
   "cell_type": "code",
   "execution_count": 13,
   "id": "5ea994a4-72c5-42f9-a631-842a07e596c8",
   "metadata": {},
   "outputs": [
    {
     "data": {
      "text/plain": [
       "(51, 19)"
      ]
     },
     "execution_count": 13,
     "metadata": {},
     "output_type": "execute_result"
    }
   ],
   "source": [
    "sigmar.shape"
   ]
  },
  {
   "cell_type": "code",
   "execution_count": 14,
   "id": "a80a27f6-8c88-48b5-bb3d-f66f7f9e4231",
   "metadata": {},
   "outputs": [
    {
     "data": {
      "text/html": [
       "<div>\n",
       "<style scoped>\n",
       "    .dataframe tbody tr th:only-of-type {\n",
       "        vertical-align: middle;\n",
       "    }\n",
       "\n",
       "    .dataframe tbody tr th {\n",
       "        vertical-align: top;\n",
       "    }\n",
       "\n",
       "    .dataframe thead th {\n",
       "        text-align: right;\n",
       "    }\n",
       "</style>\n",
       "<table border=\"1\" class=\"dataframe\">\n",
       "  <thead>\n",
       "    <tr style=\"text-align: right;\">\n",
       "      <th></th>\n",
       "      <th>Unit</th>\n",
       "      <th>Grand Alliance</th>\n",
       "      <th>Faction</th>\n",
       "      <th>Move</th>\n",
       "      <th>Wounds</th>\n",
       "      <th>Save</th>\n",
       "      <th>Bravery</th>\n",
       "      <th>Price</th>\n",
       "      <th>Points</th>\n",
       "      <th>Main weapon</th>\n",
       "      <th>Kind</th>\n",
       "      <th>Range</th>\n",
       "      <th>Attacks</th>\n",
       "      <th>To Hit</th>\n",
       "      <th>To Wound</th>\n",
       "      <th>Rend</th>\n",
       "      <th>Damage</th>\n",
       "      <th>To Hit &amp; Wound</th>\n",
       "      <th>Expected Total Damage</th>\n",
       "    </tr>\n",
       "  </thead>\n",
       "  <tbody>\n",
       "    <tr>\n",
       "      <th>0</th>\n",
       "      <td>Clanrats</td>\n",
       "      <td>Chaos</td>\n",
       "      <td>Skaven</td>\n",
       "      <td>6</td>\n",
       "      <td>1</td>\n",
       "      <td>0.17</td>\n",
       "      <td>0.67</td>\n",
       "      <td>35</td>\n",
       "      <td>100</td>\n",
       "      <td>Rusty blade</td>\n",
       "      <td>Mele weapon</td>\n",
       "      <td>1</td>\n",
       "      <td>1</td>\n",
       "      <td>0.33</td>\n",
       "      <td>0.33</td>\n",
       "      <td>0</td>\n",
       "      <td>1</td>\n",
       "      <td>0.11</td>\n",
       "      <td>0.11</td>\n",
       "    </tr>\n",
       "    <tr>\n",
       "      <th>1</th>\n",
       "      <td>Sequitors</td>\n",
       "      <td>Order</td>\n",
       "      <td>Stormcast Eternals</td>\n",
       "      <td>5</td>\n",
       "      <td>2</td>\n",
       "      <td>0.50</td>\n",
       "      <td>1.00</td>\n",
       "      <td>55</td>\n",
       "      <td>110</td>\n",
       "      <td>Stormsmite Maul</td>\n",
       "      <td>Mele weapon</td>\n",
       "      <td>1</td>\n",
       "      <td>2</td>\n",
       "      <td>0.50</td>\n",
       "      <td>0.50</td>\n",
       "      <td>0</td>\n",
       "      <td>1</td>\n",
       "      <td>0.25</td>\n",
       "      <td>0.50</td>\n",
       "    </tr>\n",
       "    <tr>\n",
       "      <th>2</th>\n",
       "      <td>Deathrattle skeletons</td>\n",
       "      <td>Death</td>\n",
       "      <td>Legions of Nagash</td>\n",
       "      <td>4</td>\n",
       "      <td>1</td>\n",
       "      <td>0.17</td>\n",
       "      <td>0.67</td>\n",
       "      <td>50</td>\n",
       "      <td>110</td>\n",
       "      <td>Ancient Blade of Spear</td>\n",
       "      <td>Mele weapon</td>\n",
       "      <td>1</td>\n",
       "      <td>1</td>\n",
       "      <td>0.50</td>\n",
       "      <td>0.33</td>\n",
       "      <td>0</td>\n",
       "      <td>1</td>\n",
       "      <td>0.16</td>\n",
       "      <td>0.16</td>\n",
       "    </tr>\n",
       "    <tr>\n",
       "      <th>3</th>\n",
       "      <td>Kurnoth hunters</td>\n",
       "      <td>Order</td>\n",
       "      <td>Sylvaneth</td>\n",
       "      <td>5</td>\n",
       "      <td>3</td>\n",
       "      <td>0.50</td>\n",
       "      <td>1.00</td>\n",
       "      <td>50</td>\n",
       "      <td>250</td>\n",
       "      <td>Vicious Claws</td>\n",
       "      <td>Mele weapon</td>\n",
       "      <td>1</td>\n",
       "      <td>3</td>\n",
       "      <td>0.33</td>\n",
       "      <td>0.33</td>\n",
       "      <td>0</td>\n",
       "      <td>1</td>\n",
       "      <td>0.11</td>\n",
       "      <td>0.33</td>\n",
       "    </tr>\n",
       "    <tr>\n",
       "      <th>4</th>\n",
       "      <td>Liberators</td>\n",
       "      <td>Order</td>\n",
       "      <td>Stormcast Eternals</td>\n",
       "      <td>5</td>\n",
       "      <td>2</td>\n",
       "      <td>0.50</td>\n",
       "      <td>1.00</td>\n",
       "      <td>55</td>\n",
       "      <td>100</td>\n",
       "      <td>Warhammer</td>\n",
       "      <td>Mele weapon</td>\n",
       "      <td>1</td>\n",
       "      <td>2</td>\n",
       "      <td>0.33</td>\n",
       "      <td>0.50</td>\n",
       "      <td>0</td>\n",
       "      <td>1</td>\n",
       "      <td>0.16</td>\n",
       "      <td>0.32</td>\n",
       "    </tr>\n",
       "  </tbody>\n",
       "</table>\n",
       "</div>"
      ],
      "text/plain": [
       "                    Unit Grand Alliance             Faction  Move  Wounds  \\\n",
       "0               Clanrats          Chaos              Skaven     6       1   \n",
       "1              Sequitors          Order  Stormcast Eternals     5       2   \n",
       "2  Deathrattle skeletons          Death   Legions of Nagash     4       1   \n",
       "3        Kurnoth hunters          Order           Sylvaneth     5       3   \n",
       "4             Liberators          Order  Stormcast Eternals     5       2   \n",
       "\n",
       "   Save  Bravery  Price  Points             Main weapon         Kind  Range  \\\n",
       "0  0.17     0.67     35     100             Rusty blade  Mele weapon      1   \n",
       "1  0.50     1.00     55     110         Stormsmite Maul  Mele weapon      1   \n",
       "2  0.17     0.67     50     110  Ancient Blade of Spear  Mele weapon      1   \n",
       "3  0.50     1.00     50     250           Vicious Claws  Mele weapon      1   \n",
       "4  0.50     1.00     55     100               Warhammer  Mele weapon      1   \n",
       "\n",
       "   Attacks  To Hit  To Wound  Rend  Damage  To Hit & Wound  \\\n",
       "0        1    0.33      0.33     0       1            0.11   \n",
       "1        2    0.50      0.50     0       1            0.25   \n",
       "2        1    0.50      0.33     0       1            0.16   \n",
       "3        3    0.33      0.33     0       1            0.11   \n",
       "4        2    0.33      0.50     0       1            0.16   \n",
       "\n",
       "   Expected Total Damage  \n",
       "0                   0.11  \n",
       "1                   0.50  \n",
       "2                   0.16  \n",
       "3                   0.33  \n",
       "4                   0.32  "
      ]
     },
     "execution_count": 14,
     "metadata": {},
     "output_type": "execute_result"
    }
   ],
   "source": [
    "sigmar.head()"
   ]
  },
  {
   "cell_type": "markdown",
   "id": "8d150000-5f04-4f8c-884a-e3e31b4f6ee9",
   "metadata": {},
   "source": [
    "**All Factions per Grand Alliace**"
   ]
  },
  {
   "cell_type": "code",
   "execution_count": 20,
   "id": "2e3103fd-f81b-4085-a47f-d7d4f863269d",
   "metadata": {},
   "outputs": [
    {
     "data": {
      "text/plain": [
       "Grand Alliance\n",
       "Chaos                                                         [Skaven, Khorne, Beasts, Nurgle, Tzeentch, Slaves to Darkness]\n",
       "Death                                             [Legions of Nagash, Flesh-eater courts, Nighthaunt, Soulblight Gravelords]\n",
       "Destruction                                                                      [Ironjawz, Gloomspite Gitz, Ogor Mawtribes]\n",
       "Order          [Stormcast Eternals, Sylvaneth, Daughters of Khaine, Fyreslayers, Seraphon, Kharadron Overlords, Free cities]\n",
       "Name: Faction, dtype: object"
      ]
     },
     "execution_count": 20,
     "metadata": {},
     "output_type": "execute_result"
    }
   ],
   "source": [
    "pd.set_option('display.max_colwidth', None)\n",
    "AllFactions = sigmar.groupby('Grand Alliance')['Faction'].unique()\n",
    "AllFactions"
   ]
  },
  {
   "cell_type": "markdown",
   "id": "e4483ee0-8b1d-4dc7-b1aa-b544db6adf6b",
   "metadata": {},
   "source": [
    "#### Top 3 Best Weapons"
   ]
  },
  {
   "cell_type": "code",
   "execution_count": 15,
   "id": "dcfafe63-b7fa-43a2-a17c-cf865c935c76",
   "metadata": {},
   "outputs": [
    {
     "data": {
      "text/html": [
       "<div>\n",
       "<style scoped>\n",
       "    .dataframe tbody tr th:only-of-type {\n",
       "        vertical-align: middle;\n",
       "    }\n",
       "\n",
       "    .dataframe tbody tr th {\n",
       "        vertical-align: top;\n",
       "    }\n",
       "\n",
       "    .dataframe thead th {\n",
       "        text-align: right;\n",
       "    }\n",
       "</style>\n",
       "<table border=\"1\" class=\"dataframe\">\n",
       "  <thead>\n",
       "    <tr style=\"text-align: right;\">\n",
       "      <th></th>\n",
       "      <th>Unit</th>\n",
       "      <th>Grand Alliance</th>\n",
       "      <th>Faction</th>\n",
       "      <th>Move</th>\n",
       "      <th>Wounds</th>\n",
       "      <th>Save</th>\n",
       "      <th>Bravery</th>\n",
       "      <th>Price</th>\n",
       "      <th>Points</th>\n",
       "      <th>Main weapon</th>\n",
       "      <th>Kind</th>\n",
       "      <th>Range</th>\n",
       "      <th>Attacks</th>\n",
       "      <th>To Hit</th>\n",
       "      <th>To Wound</th>\n",
       "      <th>Rend</th>\n",
       "      <th>Damage</th>\n",
       "      <th>To Hit &amp; Wound</th>\n",
       "      <th>Expected Total Damage</th>\n",
       "    </tr>\n",
       "  </thead>\n",
       "  <tbody>\n",
       "    <tr>\n",
       "      <th>46</th>\n",
       "      <td>Ironguts</td>\n",
       "      <td>Destruction</td>\n",
       "      <td>Ogor Mawtribes</td>\n",
       "      <td>6</td>\n",
       "      <td>4</td>\n",
       "      <td>0.50</td>\n",
       "      <td>1.0</td>\n",
       "      <td>55</td>\n",
       "      <td>240</td>\n",
       "      <td>Mighty Bashing Weapon</td>\n",
       "      <td>Mele weapon</td>\n",
       "      <td>2</td>\n",
       "      <td>3</td>\n",
       "      <td>0.5</td>\n",
       "      <td>0.50</td>\n",
       "      <td>2</td>\n",
       "      <td>3</td>\n",
       "      <td>0.25</td>\n",
       "      <td>2.25</td>\n",
       "    </tr>\n",
       "    <tr>\n",
       "      <th>38</th>\n",
       "      <td>Gluttons</td>\n",
       "      <td>Destruction</td>\n",
       "      <td>Ogor Mawtribes</td>\n",
       "      <td>6</td>\n",
       "      <td>8</td>\n",
       "      <td>0.50</td>\n",
       "      <td>1.0</td>\n",
       "      <td>60</td>\n",
       "      <td>240</td>\n",
       "      <td>Ogor Club or Bluntblade</td>\n",
       "      <td>Mele weapon</td>\n",
       "      <td>2</td>\n",
       "      <td>3</td>\n",
       "      <td>0.5</td>\n",
       "      <td>0.50</td>\n",
       "      <td>1</td>\n",
       "      <td>2</td>\n",
       "      <td>0.25</td>\n",
       "      <td>1.50</td>\n",
       "    </tr>\n",
       "    <tr>\n",
       "      <th>39</th>\n",
       "      <td>Flamers</td>\n",
       "      <td>Chaos</td>\n",
       "      <td>Tzeentch</td>\n",
       "      <td>12</td>\n",
       "      <td>3</td>\n",
       "      <td>0.33</td>\n",
       "      <td>1.5</td>\n",
       "      <td>35</td>\n",
       "      <td>170</td>\n",
       "      <td>Warpflame</td>\n",
       "      <td>Missile weapon</td>\n",
       "      <td>18</td>\n",
       "      <td>3</td>\n",
       "      <td>0.5</td>\n",
       "      <td>0.33</td>\n",
       "      <td>0</td>\n",
       "      <td>3</td>\n",
       "      <td>0.16</td>\n",
       "      <td>1.44</td>\n",
       "    </tr>\n",
       "  </tbody>\n",
       "</table>\n",
       "</div>"
      ],
      "text/plain": [
       "        Unit Grand Alliance         Faction  Move  Wounds  Save  Bravery  \\\n",
       "46  Ironguts    Destruction  Ogor Mawtribes     6       4  0.50      1.0   \n",
       "38  Gluttons    Destruction  Ogor Mawtribes     6       8  0.50      1.0   \n",
       "39   Flamers          Chaos        Tzeentch    12       3  0.33      1.5   \n",
       "\n",
       "    Price  Points              Main weapon            Kind  Range  Attacks  \\\n",
       "46     55     240    Mighty Bashing Weapon     Mele weapon      2        3   \n",
       "38     60     240  Ogor Club or Bluntblade     Mele weapon      2        3   \n",
       "39     35     170                Warpflame  Missile weapon     18        3   \n",
       "\n",
       "    To Hit  To Wound  Rend  Damage  To Hit & Wound  Expected Total Damage  \n",
       "46     0.5      0.50     2       3            0.25                   2.25  \n",
       "38     0.5      0.50     1       2            0.25                   1.50  \n",
       "39     0.5      0.33     0       3            0.16                   1.44  "
      ]
     },
     "execution_count": 15,
     "metadata": {},
     "output_type": "execute_result"
    }
   ],
   "source": [
    "top3_best_weapons = sigmar.sort_values(by='Expected Total Damage', ascending=False).head(3)\n",
    "\n",
    "top3_best_weapons"
   ]
  },
  {
   "cell_type": "markdown",
   "id": "179acc67-22f5-455b-af65-b3c07917ce30",
   "metadata": {},
   "source": [
    "#### Top 3 Best Units"
   ]
  },
  {
   "cell_type": "markdown",
   "id": "d595e138-9f98-4a9a-8f20-05f08d8a7643",
   "metadata": {},
   "source": [
    "We can consider many factors, but the most important ones are the expected damage and the wounds they can suffer, as well as the ability to avoid attacks (save). That's why we have tested all combinations, and we would always have the same top 3 as the best weapons  \n",
    "Could we also take into account movement and range, but this is much more related to general strategies when developing combat, and we will not consider it in this analysis."
   ]
  },
  {
   "cell_type": "code",
   "execution_count": 16,
   "id": "27b3bd85-ef97-47cd-8fa1-d3ada08cda88",
   "metadata": {},
   "outputs": [
    {
     "data": {
      "text/html": [
       "<div>\n",
       "<style scoped>\n",
       "    .dataframe tbody tr th:only-of-type {\n",
       "        vertical-align: middle;\n",
       "    }\n",
       "\n",
       "    .dataframe tbody tr th {\n",
       "        vertical-align: top;\n",
       "    }\n",
       "\n",
       "    .dataframe thead th {\n",
       "        text-align: right;\n",
       "    }\n",
       "</style>\n",
       "<table border=\"1\" class=\"dataframe\">\n",
       "  <thead>\n",
       "    <tr style=\"text-align: right;\">\n",
       "      <th></th>\n",
       "      <th>Unit</th>\n",
       "      <th>Grand Alliance</th>\n",
       "      <th>Faction</th>\n",
       "      <th>Move</th>\n",
       "      <th>Wounds</th>\n",
       "      <th>Save</th>\n",
       "      <th>Bravery</th>\n",
       "      <th>Price</th>\n",
       "      <th>Points</th>\n",
       "      <th>Main weapon</th>\n",
       "      <th>Kind</th>\n",
       "      <th>Range</th>\n",
       "      <th>Attacks</th>\n",
       "      <th>To Hit</th>\n",
       "      <th>To Wound</th>\n",
       "      <th>Rend</th>\n",
       "      <th>Damage</th>\n",
       "      <th>To Hit &amp; Wound</th>\n",
       "      <th>Expected Total Damage</th>\n",
       "    </tr>\n",
       "  </thead>\n",
       "  <tbody>\n",
       "    <tr>\n",
       "      <th>38</th>\n",
       "      <td>Gluttons</td>\n",
       "      <td>Destruction</td>\n",
       "      <td>Ogor Mawtribes</td>\n",
       "      <td>6</td>\n",
       "      <td>8</td>\n",
       "      <td>0.50</td>\n",
       "      <td>1.0</td>\n",
       "      <td>60</td>\n",
       "      <td>240</td>\n",
       "      <td>Ogor Club or Bluntblade</td>\n",
       "      <td>Mele weapon</td>\n",
       "      <td>2</td>\n",
       "      <td>3</td>\n",
       "      <td>0.5</td>\n",
       "      <td>0.50</td>\n",
       "      <td>1</td>\n",
       "      <td>2</td>\n",
       "      <td>0.25</td>\n",
       "      <td>1.50</td>\n",
       "    </tr>\n",
       "    <tr>\n",
       "      <th>46</th>\n",
       "      <td>Ironguts</td>\n",
       "      <td>Destruction</td>\n",
       "      <td>Ogor Mawtribes</td>\n",
       "      <td>6</td>\n",
       "      <td>4</td>\n",
       "      <td>0.50</td>\n",
       "      <td>1.0</td>\n",
       "      <td>55</td>\n",
       "      <td>240</td>\n",
       "      <td>Mighty Bashing Weapon</td>\n",
       "      <td>Mele weapon</td>\n",
       "      <td>2</td>\n",
       "      <td>3</td>\n",
       "      <td>0.5</td>\n",
       "      <td>0.50</td>\n",
       "      <td>2</td>\n",
       "      <td>3</td>\n",
       "      <td>0.25</td>\n",
       "      <td>2.25</td>\n",
       "    </tr>\n",
       "    <tr>\n",
       "      <th>39</th>\n",
       "      <td>Flamers</td>\n",
       "      <td>Chaos</td>\n",
       "      <td>Tzeentch</td>\n",
       "      <td>12</td>\n",
       "      <td>3</td>\n",
       "      <td>0.33</td>\n",
       "      <td>1.5</td>\n",
       "      <td>35</td>\n",
       "      <td>170</td>\n",
       "      <td>Warpflame</td>\n",
       "      <td>Missile weapon</td>\n",
       "      <td>18</td>\n",
       "      <td>3</td>\n",
       "      <td>0.5</td>\n",
       "      <td>0.33</td>\n",
       "      <td>0</td>\n",
       "      <td>3</td>\n",
       "      <td>0.16</td>\n",
       "      <td>1.44</td>\n",
       "    </tr>\n",
       "  </tbody>\n",
       "</table>\n",
       "</div>"
      ],
      "text/plain": [
       "        Unit Grand Alliance         Faction  Move  Wounds  Save  Bravery  \\\n",
       "38  Gluttons    Destruction  Ogor Mawtribes     6       8  0.50      1.0   \n",
       "46  Ironguts    Destruction  Ogor Mawtribes     6       4  0.50      1.0   \n",
       "39   Flamers          Chaos        Tzeentch    12       3  0.33      1.5   \n",
       "\n",
       "    Price  Points              Main weapon            Kind  Range  Attacks  \\\n",
       "38     60     240  Ogor Club or Bluntblade     Mele weapon      2        3   \n",
       "46     55     240    Mighty Bashing Weapon     Mele weapon      2        3   \n",
       "39     35     170                Warpflame  Missile weapon     18        3   \n",
       "\n",
       "    To Hit  To Wound  Rend  Damage  To Hit & Wound  Expected Total Damage  \n",
       "38     0.5      0.50     1       2            0.25                   1.50  \n",
       "46     0.5      0.50     2       3            0.25                   2.25  \n",
       "39     0.5      0.33     0       3            0.16                   1.44  "
      ]
     },
     "execution_count": 16,
     "metadata": {},
     "output_type": "execute_result"
    }
   ],
   "source": [
    "top3_units = sigmar[sigmar['Expected Total Damage'] > 0.8].sort_values(by=['Wounds', 'Expected Total Damage', 'Save'], ascending=[False, False, False]).head(3)\n",
    "top3_units"
   ]
  },
  {
   "cell_type": "markdown",
   "id": "0d6aac37-6d49-4f6c-98ee-d74ee4d7adde",
   "metadata": {},
   "source": [
    "Even with this filter added, the top 3 units remain the same, only changing the order of the first two."
   ]
  },
  {
   "cell_type": "markdown",
   "id": "ef798e18-b2f1-45c9-8355-c795085aad51",
   "metadata": {},
   "source": [
    "### Count of Units per Faction/ Faction per Units"
   ]
  },
  {
   "cell_type": "code",
   "execution_count": 17,
   "id": "2d143b4c-f48e-4f35-9630-33f0e672a79e",
   "metadata": {},
   "outputs": [
    {
     "name": "stdout",
     "output_type": "stream",
     "text": [
      "Units per faction and alliance:\n",
      "   Grand Alliance                Faction  Unit Count\n",
      "19          Order              Sylvaneth           5\n",
      "14          Order            Free cities           5\n",
      "18          Order     Stormcast Eternals           4\n",
      "5           Chaos               Tzeentch           4\n",
      "9           Death  Soulblight Gravelords           3\n",
      "17          Order               Seraphon           3\n",
      "12    Destruction         Ogor Mawtribes           3\n",
      "11    Destruction               Ironjawz           3\n",
      "1           Chaos                 Khorne           3\n",
      "10    Destruction        Gloomspite Gitz           3\n",
      "8           Death             Nighthaunt           3\n",
      "3           Chaos                 Skaven           3\n",
      "6           Death     Flesh-eater courts           2\n",
      "7           Death      Legions of Nagash           1\n",
      "13          Order    Daughters of Khaine           1\n",
      "4           Chaos     Slaves to Darkness           1\n",
      "15          Order            Fyreslayers           1\n",
      "16          Order    Kharadron Overlords           1\n",
      "2           Chaos                 Nurgle           1\n",
      "0           Chaos                 Beasts           1\n",
      "\n",
      "Factions per alliance:\n",
      "  Grand Alliance  Faction Count\n",
      "3          Order              7\n",
      "0          Chaos              6\n",
      "1          Death              4\n",
      "2    Destruction              3\n"
     ]
    }
   ],
   "source": [
    "units_by_faction_alliance = sigmar.groupby(['Grand Alliance', 'Faction']).size().reset_index(name='Unit Count')\n",
    "factions_by_alliance = sigmar.groupby('Grand Alliance')['Faction'].nunique().reset_index(name='Faction Count')\n",
    "\n",
    "units_by_faction_alliance = units_by_faction_alliance.sort_values(by='Unit Count', ascending=False)\n",
    "factions_by_alliance = factions_by_alliance.sort_values(by='Faction Count', ascending=False)\n",
    "\n",
    "print(\"Units per faction and alliance:\")\n",
    "print(units_by_faction_alliance)\n",
    "print(\"\\nFactions per alliance:\")\n",
    "print(factions_by_alliance)\n"
   ]
  },
  {
   "cell_type": "markdown",
   "id": "e95815d9-fd15-4088-84df-b1b12b25425f",
   "metadata": {},
   "source": [
    "#### Interpretation of Units per Faction and Alliance"
   ]
  },
  {
   "cell_type": "markdown",
   "id": "a474e41c-3fb5-4609-bbc1-a404c9a97472",
   "metadata": {},
   "source": [
    "The alliance with the highest representation in terms of unit count is \"Order,\" with Sylvaneth and Free Cities having the most units (5 each)"
   ]
  },
  {
   "cell_type": "markdown",
   "id": "4605f686-62fd-429f-ab06-9bf6a1e0d218",
   "metadata": {},
   "source": [
    "The Stormcast Eternals, also from the Order alliance, follow closely with 4 units"
   ]
  },
  {
   "cell_type": "markdown",
   "id": "1c48d9c8-687b-4519-986a-808a8baef7e5",
   "metadata": {},
   "source": [
    "Tzeentch from the Chaos alliance has the highest unit count among Chaos factions, with 4 units"
   ]
  },
  {
   "cell_type": "markdown",
   "id": "2154a3e7-36e4-4323-8809-0ac8a98b8d32",
   "metadata": {},
   "source": [
    "Legions of Nagash from the Death alliance and several other factions have only 1 unit each"
   ]
  },
  {
   "cell_type": "markdown",
   "id": "1071a70a-dcae-4c9b-85be-a6f47558e936",
   "metadata": {},
   "source": [
    "#### Interpretation of FactionS per Alliance"
   ]
  },
  {
   "cell_type": "markdown",
   "id": "5d15f878-20b4-4a29-af65-978dab9bbe31",
   "metadata": {},
   "source": [
    "The alliance with the most factions is \"Order,\" with 7 unique factions"
   ]
  },
  {
   "cell_type": "markdown",
   "id": "d7c3b5b6-12ff-4b80-96d3-a333b108a4c0",
   "metadata": {},
   "source": [
    "Chaos follows closely with 6 unique factions"
   ]
  },
  {
   "cell_type": "markdown",
   "id": "8f5eed93-8cb6-4990-ac0b-037898856d42",
   "metadata": {},
   "source": [
    "Death has 4 unique factions, and Destruction has only 3 unique factions"
   ]
  },
  {
   "cell_type": "markdown",
   "id": "815d8a64-b56e-4c7c-8e25-43c23e776010",
   "metadata": {},
   "source": [
    "### Mean values per Grand Alliance"
   ]
  },
  {
   "cell_type": "code",
   "execution_count": 18,
   "id": "27084ac5-9b6b-4cba-8d78-ff1275cc51c8",
   "metadata": {},
   "outputs": [],
   "source": [
    "factions_mean =  sigmar.groupby('Faction')[['Move','Wounds','Save', 'Bravery','Price','Points','Range','Attacks','To Hit','To Wound','Rend','Damage','To Hit & Wound','Expected Total Damage']].mean()\n",
    "alliances_mean = sigmar.groupby('Grand Alliance')[['Move','Wounds','Save', 'Bravery','Price','Points','Range','Attacks','To Hit','To Wound','Rend','Damage','To Hit & Wound','Expected Total Damage']].mean()\n",
    "\n",
    "# we don't have enough data to see the st dev of the factions, so let's check the alliances\n",
    "alliances_std = sigmar.groupby('Grand Alliance')[['Move','Wounds','Save','Bravery','Price','Points','Range','Attacks','To Hit','To Wound','Rend','Damage','To Hit & Wound','Expected Total Damage']].std()"
   ]
  },
  {
   "cell_type": "code",
   "execution_count": 19,
   "id": "41d506a2-cf2b-4087-b96b-3c5fda34d94d",
   "metadata": {},
   "outputs": [
    {
     "data": {
      "text/html": [
       "<div>\n",
       "<style scoped>\n",
       "    .dataframe tbody tr th:only-of-type {\n",
       "        vertical-align: middle;\n",
       "    }\n",
       "\n",
       "    .dataframe tbody tr th {\n",
       "        vertical-align: top;\n",
       "    }\n",
       "\n",
       "    .dataframe thead th {\n",
       "        text-align: right;\n",
       "    }\n",
       "</style>\n",
       "<table border=\"1\" class=\"dataframe\">\n",
       "  <thead>\n",
       "    <tr style=\"text-align: right;\">\n",
       "      <th></th>\n",
       "      <th>Move</th>\n",
       "      <th>Wounds</th>\n",
       "      <th>Save</th>\n",
       "      <th>Bravery</th>\n",
       "      <th>Price</th>\n",
       "      <th>Points</th>\n",
       "      <th>Range</th>\n",
       "      <th>Attacks</th>\n",
       "      <th>To Hit</th>\n",
       "      <th>To Wound</th>\n",
       "      <th>Rend</th>\n",
       "      <th>Damage</th>\n",
       "      <th>To Hit &amp; Wound</th>\n",
       "      <th>Expected Total Damage</th>\n",
       "    </tr>\n",
       "    <tr>\n",
       "      <th>Grand Alliance</th>\n",
       "      <th></th>\n",
       "      <th></th>\n",
       "      <th></th>\n",
       "      <th></th>\n",
       "      <th></th>\n",
       "      <th></th>\n",
       "      <th></th>\n",
       "      <th></th>\n",
       "      <th></th>\n",
       "      <th></th>\n",
       "      <th></th>\n",
       "      <th></th>\n",
       "      <th></th>\n",
       "      <th></th>\n",
       "    </tr>\n",
       "  </thead>\n",
       "  <tbody>\n",
       "    <tr>\n",
       "      <th>Chaos</th>\n",
       "      <td>6.615385</td>\n",
       "      <td>1.384615</td>\n",
       "      <td>0.320000</td>\n",
       "      <td>0.936154</td>\n",
       "      <td>40.692308</td>\n",
       "      <td>133.846154</td>\n",
       "      <td>4.692308</td>\n",
       "      <td>1.769231</td>\n",
       "      <td>0.434615</td>\n",
       "      <td>0.421538</td>\n",
       "      <td>0.384615</td>\n",
       "      <td>1.230769</td>\n",
       "      <td>0.180000</td>\n",
       "      <td>0.423846</td>\n",
       "    </tr>\n",
       "    <tr>\n",
       "      <th>Death</th>\n",
       "      <td>6.222222</td>\n",
       "      <td>1.555556</td>\n",
       "      <td>0.333333</td>\n",
       "      <td>0.963333</td>\n",
       "      <td>45.555556</td>\n",
       "      <td>130.000000</td>\n",
       "      <td>2.555556</td>\n",
       "      <td>2.222222</td>\n",
       "      <td>0.350000</td>\n",
       "      <td>0.386667</td>\n",
       "      <td>0.444444</td>\n",
       "      <td>1.111111</td>\n",
       "      <td>0.136667</td>\n",
       "      <td>0.390000</td>\n",
       "    </tr>\n",
       "    <tr>\n",
       "      <th>Destruction</th>\n",
       "      <td>5.555556</td>\n",
       "      <td>2.777778</td>\n",
       "      <td>0.443333</td>\n",
       "      <td>0.887778</td>\n",
       "      <td>49.666667</td>\n",
       "      <td>175.555556</td>\n",
       "      <td>3.777778</td>\n",
       "      <td>2.444444</td>\n",
       "      <td>0.405556</td>\n",
       "      <td>0.481111</td>\n",
       "      <td>1.444444</td>\n",
       "      <td>1.444444</td>\n",
       "      <td>0.194444</td>\n",
       "      <td>0.798889</td>\n",
       "    </tr>\n",
       "    <tr>\n",
       "      <th>Order</th>\n",
       "      <td>6.100000</td>\n",
       "      <td>1.900000</td>\n",
       "      <td>0.442000</td>\n",
       "      <td>0.966000</td>\n",
       "      <td>46.050000</td>\n",
       "      <td>154.000000</td>\n",
       "      <td>4.750000</td>\n",
       "      <td>2.050000</td>\n",
       "      <td>0.398500</td>\n",
       "      <td>0.449500</td>\n",
       "      <td>0.700000</td>\n",
       "      <td>1.200000</td>\n",
       "      <td>0.187000</td>\n",
       "      <td>0.483000</td>\n",
       "    </tr>\n",
       "  </tbody>\n",
       "</table>\n",
       "</div>"
      ],
      "text/plain": [
       "                    Move    Wounds      Save   Bravery      Price      Points  \\\n",
       "Grand Alliance                                                                  \n",
       "Chaos           6.615385  1.384615  0.320000  0.936154  40.692308  133.846154   \n",
       "Death           6.222222  1.555556  0.333333  0.963333  45.555556  130.000000   \n",
       "Destruction     5.555556  2.777778  0.443333  0.887778  49.666667  175.555556   \n",
       "Order           6.100000  1.900000  0.442000  0.966000  46.050000  154.000000   \n",
       "\n",
       "                   Range   Attacks    To Hit  To Wound      Rend    Damage  \\\n",
       "Grand Alliance                                                               \n",
       "Chaos           4.692308  1.769231  0.434615  0.421538  0.384615  1.230769   \n",
       "Death           2.555556  2.222222  0.350000  0.386667  0.444444  1.111111   \n",
       "Destruction     3.777778  2.444444  0.405556  0.481111  1.444444  1.444444   \n",
       "Order           4.750000  2.050000  0.398500  0.449500  0.700000  1.200000   \n",
       "\n",
       "                To Hit & Wound  Expected Total Damage  \n",
       "Grand Alliance                                         \n",
       "Chaos                 0.180000               0.423846  \n",
       "Death                 0.136667               0.390000  \n",
       "Destruction           0.194444               0.798889  \n",
       "Order                 0.187000               0.483000  "
      ]
     },
     "execution_count": 19,
     "metadata": {},
     "output_type": "execute_result"
    }
   ],
   "source": [
    "alliances_mean"
   ]
  },
  {
   "cell_type": "markdown",
   "id": "6a8e375e-e323-4d0c-8017-8c99282b5cce",
   "metadata": {},
   "source": [
    "**Chaos** has the highest score in mobility and it boasts the best price. However, its Rend points are very low, as the amount of Attacks."
   ]
  },
  {
   "cell_type": "markdown",
   "id": "2da6bfe2-fac8-4e47-b291-c574a362d100",
   "metadata": {},
   "source": [
    "**Death** doesn't stand out as especially at anything but for being one of the most courageous (considering they are already deceased and have little to fear)."
   ]
  },
  {
   "cell_type": "markdown",
   "id": "053130c5-e59a-4f13-a356-e85d7d2913bc",
   "metadata": {},
   "source": [
    "**Destruction** has the worst movement and a limited ability to dodge damage, but stands out remarkably in the amount of damage needed to eliminate them, the number of attacks, and the expected damage. On the other hand, they are the most expensive and have the highest points, so you may have few units in your army.\n"
   ]
  },
  {
   "cell_type": "markdown",
   "id": "464b52f0-9595-49e8-997d-fac0014ca894",
   "metadata": {},
   "source": [
    "**Order** is very good at avoiding damage, they are the bravest, and they have units with the longest attack range"
   ]
  },
  {
   "cell_type": "markdown",
   "id": "9c398f7a-ea11-4e8f-b02a-aac692c818d1",
   "metadata": {},
   "source": [
    "### Top 5 best Factions per each Value"
   ]
  },
  {
   "cell_type": "code",
   "execution_count": 20,
   "id": "9e28bc0c-dd8b-41e5-81ce-7cf305b888ec",
   "metadata": {},
   "outputs": [],
   "source": [
    "columns_to_find_top5 = ['Move', 'Wounds', 'Save', 'Bravery', 'Price', 'Expected Total Damage']"
   ]
  },
  {
   "cell_type": "code",
   "execution_count": 21,
   "id": "722ee204-55ca-4233-8e58-c72befa2d611",
   "metadata": {},
   "outputs": [
    {
     "data": {
      "text/html": [
       "<div>\n",
       "<style scoped>\n",
       "    .dataframe tbody tr th:only-of-type {\n",
       "        vertical-align: middle;\n",
       "    }\n",
       "\n",
       "    .dataframe tbody tr th {\n",
       "        vertical-align: top;\n",
       "    }\n",
       "\n",
       "    .dataframe thead th {\n",
       "        text-align: right;\n",
       "    }\n",
       "</style>\n",
       "<table border=\"1\" class=\"dataframe\">\n",
       "  <thead>\n",
       "    <tr style=\"text-align: right;\">\n",
       "      <th></th>\n",
       "      <th>Top5_Move_Factions</th>\n",
       "      <th>Top5_Wounds_Factions</th>\n",
       "      <th>Top5_Save_Factions</th>\n",
       "      <th>Top5_Bravery_Factions</th>\n",
       "      <th>Top5_Price_Factions</th>\n",
       "      <th>Top5_Expected Total Damage_Factions</th>\n",
       "    </tr>\n",
       "  </thead>\n",
       "  <tbody>\n",
       "    <tr>\n",
       "      <th>0</th>\n",
       "      <td>Tzeentch</td>\n",
       "      <td>Ogor Mawtribes</td>\n",
       "      <td>Fyreslayers</td>\n",
       "      <td>Nurgle</td>\n",
       "      <td>Beasts</td>\n",
       "      <td>Ogor Mawtribes</td>\n",
       "    </tr>\n",
       "    <tr>\n",
       "      <th>1</th>\n",
       "      <td>Soulblight Gravelords</td>\n",
       "      <td>Seraphon</td>\n",
       "      <td>Ironjawz</td>\n",
       "      <td>Fyreslayers</td>\n",
       "      <td>Nurgle</td>\n",
       "      <td>Stormcast Eternals</td>\n",
       "    </tr>\n",
       "    <tr>\n",
       "      <th>2</th>\n",
       "      <td>Seraphon</td>\n",
       "      <td>Flesh-eater courts</td>\n",
       "      <td>Kharadron Overlords</td>\n",
       "      <td>Nighthaunt</td>\n",
       "      <td>Kharadron Overlords</td>\n",
       "      <td>Flesh-eater courts</td>\n",
       "    </tr>\n",
       "    <tr>\n",
       "      <th>3</th>\n",
       "      <td>Nighthaunt</td>\n",
       "      <td>Fyreslayers</td>\n",
       "      <td>Ogor Mawtribes</td>\n",
       "      <td>Tzeentch</td>\n",
       "      <td>Skaven</td>\n",
       "      <td>Ironjawz</td>\n",
       "    </tr>\n",
       "    <tr>\n",
       "      <th>4</th>\n",
       "      <td>Free cities</td>\n",
       "      <td>Ironjawz</td>\n",
       "      <td>Slaves to Darkness</td>\n",
       "      <td>Soulblight Gravelords</td>\n",
       "      <td>Gloomspite Gitz</td>\n",
       "      <td>Tzeentch</td>\n",
       "    </tr>\n",
       "  </tbody>\n",
       "</table>\n",
       "</div>"
      ],
      "text/plain": [
       "      Top5_Move_Factions Top5_Wounds_Factions   Top5_Save_Factions  \\\n",
       "0               Tzeentch       Ogor Mawtribes          Fyreslayers   \n",
       "1  Soulblight Gravelords             Seraphon             Ironjawz   \n",
       "2               Seraphon   Flesh-eater courts  Kharadron Overlords   \n",
       "3             Nighthaunt          Fyreslayers       Ogor Mawtribes   \n",
       "4            Free cities             Ironjawz   Slaves to Darkness   \n",
       "\n",
       "   Top5_Bravery_Factions  Top5_Price_Factions  \\\n",
       "0                 Nurgle               Beasts   \n",
       "1            Fyreslayers               Nurgle   \n",
       "2             Nighthaunt  Kharadron Overlords   \n",
       "3               Tzeentch               Skaven   \n",
       "4  Soulblight Gravelords      Gloomspite Gitz   \n",
       "\n",
       "  Top5_Expected Total Damage_Factions  \n",
       "0                      Ogor Mawtribes  \n",
       "1                  Stormcast Eternals  \n",
       "2                  Flesh-eater courts  \n",
       "3                            Ironjawz  \n",
       "4                            Tzeentch  "
      ]
     },
     "execution_count": 21,
     "metadata": {},
     "output_type": "execute_result"
    }
   ],
   "source": [
    "# Dictionary to store top 5 DataFrames for each column\n",
    "top5_dataframes = {}\n",
    "\n",
    "# Find top 5 factions for each column and create DataFrames\n",
    "for column in columns_to_find_top5:\n",
    "    if column in factions_mean.columns:\n",
    "        # Sort in reverse order if it is the 'Price' column\n",
    "        if column == 'Price':\n",
    "            top5_dataframes[f'Top5_{column}_Factions'] = pd.DataFrame({f'Top5_{column}_Factions': factions_mean[column].nsmallest(5).index})\n",
    "        else:\n",
    "            top5_dataframes[f'Top5_{column}_Factions'] = pd.DataFrame({f'Top5_{column}_Factions': factions_mean[column].nlargest(5).index})\n",
    "    else:\n",
    "        print(f\"Column '{column}' not found in factions_mean.\")\n",
    "\n",
    "# Concatenate all DataFrames\n",
    "top5_factions_df = pd.concat([pd.DataFrame(top5_dataframes[column]) for column in top5_dataframes.keys()], axis=1)\n",
    "\n",
    "top5_factions_df"
   ]
  },
  {
   "cell_type": "markdown",
   "id": "24c1cd2c-4730-46e7-bb25-9a4cdb475e6a",
   "metadata": {},
   "source": [
    "### Top 4 best Alliances per each value"
   ]
  },
  {
   "cell_type": "code",
   "execution_count": 22,
   "id": "620d7eec-b67e-4855-85f0-da218e73a3c0",
   "metadata": {},
   "outputs": [
    {
     "data": {
      "text/html": [
       "<div>\n",
       "<style scoped>\n",
       "    .dataframe tbody tr th:only-of-type {\n",
       "        vertical-align: middle;\n",
       "    }\n",
       "\n",
       "    .dataframe tbody tr th {\n",
       "        vertical-align: top;\n",
       "    }\n",
       "\n",
       "    .dataframe thead th {\n",
       "        text-align: right;\n",
       "    }\n",
       "</style>\n",
       "<table border=\"1\" class=\"dataframe\">\n",
       "  <thead>\n",
       "    <tr style=\"text-align: right;\">\n",
       "      <th></th>\n",
       "      <th>Top4_Move_Alliances</th>\n",
       "      <th>Top4_Wounds_Alliances</th>\n",
       "      <th>Top4_Save_Alliances</th>\n",
       "      <th>Top4_Bravery_Alliances</th>\n",
       "      <th>Top4_Price_Alliances</th>\n",
       "      <th>Top4_Expected Total Damage_Alliances</th>\n",
       "    </tr>\n",
       "  </thead>\n",
       "  <tbody>\n",
       "    <tr>\n",
       "      <th>0</th>\n",
       "      <td>Chaos</td>\n",
       "      <td>Destruction</td>\n",
       "      <td>Destruction</td>\n",
       "      <td>Order</td>\n",
       "      <td>Chaos</td>\n",
       "      <td>Destruction</td>\n",
       "    </tr>\n",
       "    <tr>\n",
       "      <th>1</th>\n",
       "      <td>Death</td>\n",
       "      <td>Order</td>\n",
       "      <td>Order</td>\n",
       "      <td>Death</td>\n",
       "      <td>Death</td>\n",
       "      <td>Order</td>\n",
       "    </tr>\n",
       "    <tr>\n",
       "      <th>2</th>\n",
       "      <td>Order</td>\n",
       "      <td>Death</td>\n",
       "      <td>Death</td>\n",
       "      <td>Chaos</td>\n",
       "      <td>Order</td>\n",
       "      <td>Chaos</td>\n",
       "    </tr>\n",
       "    <tr>\n",
       "      <th>3</th>\n",
       "      <td>Destruction</td>\n",
       "      <td>Chaos</td>\n",
       "      <td>Chaos</td>\n",
       "      <td>Destruction</td>\n",
       "      <td>Destruction</td>\n",
       "      <td>Death</td>\n",
       "    </tr>\n",
       "  </tbody>\n",
       "</table>\n",
       "</div>"
      ],
      "text/plain": [
       "  Top4_Move_Alliances Top4_Wounds_Alliances Top4_Save_Alliances  \\\n",
       "0               Chaos           Destruction         Destruction   \n",
       "1               Death                 Order               Order   \n",
       "2               Order                 Death               Death   \n",
       "3         Destruction                 Chaos               Chaos   \n",
       "\n",
       "  Top4_Bravery_Alliances Top4_Price_Alliances  \\\n",
       "0                  Order                Chaos   \n",
       "1                  Death                Death   \n",
       "2                  Chaos                Order   \n",
       "3            Destruction          Destruction   \n",
       "\n",
       "  Top4_Expected Total Damage_Alliances  \n",
       "0                          Destruction  \n",
       "1                                Order  \n",
       "2                                Chaos  \n",
       "3                                Death  "
      ]
     },
     "execution_count": 22,
     "metadata": {},
     "output_type": "execute_result"
    }
   ],
   "source": [
    "# Dictionary to store top 4 DataFrames for each column\n",
    "top4_alliances_dataframes = {}\n",
    "\n",
    "# Find top 4 factions for each column and create DataFrames in alliances_mean\n",
    "for column in columns_to_find_top5:\n",
    "    if column in alliances_mean.columns:\n",
    "        # Ordenar inversamente si es la columna 'Price'\n",
    "        if column == 'Price':\n",
    "            top4_alliances_dataframes[f'Top4_{column}_Alliances'] = pd.DataFrame({f'Top4_{column}_Alliances': alliances_mean[column].nsmallest(5).index})\n",
    "        else:\n",
    "            top4_alliances_dataframes[f'Top4_{column}_Alliances'] = pd.DataFrame({f'Top4_{column}_Alliances': alliances_mean[column].nlargest(5).index})\n",
    "    else:\n",
    "        print(f\"Column '{column}' not found in alliances_mean.\")\n",
    "\n",
    "# Concatenate all DataFrames\n",
    "top4_alliances_df = pd.concat([pd.DataFrame(top4_alliances_dataframes[column]) for column in top4_alliances_dataframes.keys()], axis=1)\n",
    "\n",
    "top4_alliances_df\n",
    "\n"
   ]
  },
  {
   "cell_type": "markdown",
   "id": "cc9aab4e-e387-4c57-9569-7a96988a391a",
   "metadata": {},
   "source": [
    "### Correlations among numeric variables"
   ]
  },
  {
   "cell_type": "code",
   "execution_count": 23,
   "id": "7cb9d0fd-35c2-4d22-b604-7b64cff597e4",
   "metadata": {},
   "outputs": [
    {
     "data": {
      "image/png": "[encoded data removed]",
      "text/plain": [
       "<Figure size 800x600 with 2 Axes>"
      ]
     },
     "metadata": {},
     "output_type": "display_data"
    }
   ],
   "source": [
    "numerical_data = sigmar.select_dtypes(include=['float64', 'int64'])\n",
    "\n",
    "correlation_matrix = numerical_data.corr()\n",
    "\n",
    "plt.figure(figsize=(8, 6))\n",
    "sns.heatmap(correlation_matrix, annot=True, cmap='coolwarm', fmt=\".2f\", linewidths=.5)\n",
    "plt.title('Heatmap - Correlation Matrix (Numerical Variables)')\n",
    "plt.show()"
   ]
  },
  {
   "cell_type": "code",
   "execution_count": 24,
   "id": "9eacfcbf-f8d8-42f7-8aa3-419340990607",
   "metadata": {},
   "outputs": [
    {
     "data": {
      "text/html": [
       "<div>\n",
       "<style scoped>\n",
       "    .dataframe tbody tr th:only-of-type {\n",
       "        vertical-align: middle;\n",
       "    }\n",
       "\n",
       "    .dataframe tbody tr th {\n",
       "        vertical-align: top;\n",
       "    }\n",
       "\n",
       "    .dataframe thead th {\n",
       "        text-align: right;\n",
       "    }\n",
       "</style>\n",
       "<table border=\"1\" class=\"dataframe\">\n",
       "  <thead>\n",
       "    <tr style=\"text-align: right;\">\n",
       "      <th></th>\n",
       "      <th>Move</th>\n",
       "      <th>Wounds</th>\n",
       "      <th>Save</th>\n",
       "      <th>Bravery</th>\n",
       "      <th>Price</th>\n",
       "      <th>Points</th>\n",
       "      <th>Range</th>\n",
       "      <th>Attacks</th>\n",
       "      <th>To Hit</th>\n",
       "      <th>To Wound</th>\n",
       "      <th>Rend</th>\n",
       "      <th>Damage</th>\n",
       "      <th>To Hit &amp; Wound</th>\n",
       "      <th>Expected Total Damage</th>\n",
       "    </tr>\n",
       "  </thead>\n",
       "  <tbody>\n",
       "    <tr>\n",
       "      <th>Move</th>\n",
       "      <td>1.000000</td>\n",
       "      <td>0.246795</td>\n",
       "      <td>0.191507</td>\n",
       "      <td>0.228354</td>\n",
       "      <td>-0.034619</td>\n",
       "      <td>0.059236</td>\n",
       "      <td>0.115070</td>\n",
       "      <td>0.280616</td>\n",
       "      <td>0.130038</td>\n",
       "      <td>0.001341</td>\n",
       "      <td>-0.027773</td>\n",
       "      <td>0.051443</td>\n",
       "      <td>0.123193</td>\n",
       "      <td>0.192977</td>\n",
       "    </tr>\n",
       "    <tr>\n",
       "      <th>Wounds</th>\n",
       "      <td>0.246795</td>\n",
       "      <td>1.000000</td>\n",
       "      <td>0.562918</td>\n",
       "      <td>0.221682</td>\n",
       "      <td>0.437799</td>\n",
       "      <td>0.576197</td>\n",
       "      <td>0.022174</td>\n",
       "      <td>0.422159</td>\n",
       "      <td>0.301864</td>\n",
       "      <td>0.301327</td>\n",
       "      <td>0.294289</td>\n",
       "      <td>0.396208</td>\n",
       "      <td>0.371547</td>\n",
       "      <td>0.604972</td>\n",
       "    </tr>\n",
       "    <tr>\n",
       "      <th>Save</th>\n",
       "      <td>0.191507</td>\n",
       "      <td>0.562918</td>\n",
       "      <td>1.000000</td>\n",
       "      <td>0.240721</td>\n",
       "      <td>0.502099</td>\n",
       "      <td>0.578530</td>\n",
       "      <td>-0.008883</td>\n",
       "      <td>0.383064</td>\n",
       "      <td>0.442782</td>\n",
       "      <td>0.500854</td>\n",
       "      <td>0.479123</td>\n",
       "      <td>0.117241</td>\n",
       "      <td>0.578732</td>\n",
       "      <td>0.405728</td>\n",
       "    </tr>\n",
       "    <tr>\n",
       "      <th>Bravery</th>\n",
       "      <td>0.228354</td>\n",
       "      <td>0.221682</td>\n",
       "      <td>0.240721</td>\n",
       "      <td>1.000000</td>\n",
       "      <td>-0.011570</td>\n",
       "      <td>0.154284</td>\n",
       "      <td>-0.002560</td>\n",
       "      <td>0.276802</td>\n",
       "      <td>0.135399</td>\n",
       "      <td>0.075131</td>\n",
       "      <td>0.073696</td>\n",
       "      <td>0.163684</td>\n",
       "      <td>0.123870</td>\n",
       "      <td>0.228069</td>\n",
       "    </tr>\n",
       "    <tr>\n",
       "      <th>Price</th>\n",
       "      <td>-0.034619</td>\n",
       "      <td>0.437799</td>\n",
       "      <td>0.502099</td>\n",
       "      <td>-0.011570</td>\n",
       "      <td>1.000000</td>\n",
       "      <td>0.523995</td>\n",
       "      <td>-0.125148</td>\n",
       "      <td>0.291080</td>\n",
       "      <td>0.409725</td>\n",
       "      <td>0.411311</td>\n",
       "      <td>0.280602</td>\n",
       "      <td>-0.003288</td>\n",
       "      <td>0.479947</td>\n",
       "      <td>0.306073</td>\n",
       "    </tr>\n",
       "    <tr>\n",
       "      <th>Points</th>\n",
       "      <td>0.059236</td>\n",
       "      <td>0.576197</td>\n",
       "      <td>0.578530</td>\n",
       "      <td>0.154284</td>\n",
       "      <td>0.523995</td>\n",
       "      <td>1.000000</td>\n",
       "      <td>0.030161</td>\n",
       "      <td>0.361940</td>\n",
       "      <td>0.433543</td>\n",
       "      <td>0.393754</td>\n",
       "      <td>0.406133</td>\n",
       "      <td>0.292758</td>\n",
       "      <td>0.543460</td>\n",
       "      <td>0.550750</td>\n",
       "    </tr>\n",
       "    <tr>\n",
       "      <th>Range</th>\n",
       "      <td>0.115070</td>\n",
       "      <td>0.022174</td>\n",
       "      <td>-0.008883</td>\n",
       "      <td>-0.002560</td>\n",
       "      <td>-0.125148</td>\n",
       "      <td>0.030161</td>\n",
       "      <td>1.000000</td>\n",
       "      <td>-0.198633</td>\n",
       "      <td>0.112984</td>\n",
       "      <td>0.274617</td>\n",
       "      <td>0.274404</td>\n",
       "      <td>0.458549</td>\n",
       "      <td>0.240275</td>\n",
       "      <td>0.178046</td>\n",
       "    </tr>\n",
       "    <tr>\n",
       "      <th>Attacks</th>\n",
       "      <td>0.280616</td>\n",
       "      <td>0.422159</td>\n",
       "      <td>0.383064</td>\n",
       "      <td>0.276802</td>\n",
       "      <td>0.291080</td>\n",
       "      <td>0.361940</td>\n",
       "      <td>-0.198633</td>\n",
       "      <td>1.000000</td>\n",
       "      <td>0.290038</td>\n",
       "      <td>0.332622</td>\n",
       "      <td>0.316688</td>\n",
       "      <td>0.198639</td>\n",
       "      <td>0.365613</td>\n",
       "      <td>0.658148</td>\n",
       "    </tr>\n",
       "    <tr>\n",
       "      <th>To Hit</th>\n",
       "      <td>0.130038</td>\n",
       "      <td>0.301864</td>\n",
       "      <td>0.442782</td>\n",
       "      <td>0.135399</td>\n",
       "      <td>0.409725</td>\n",
       "      <td>0.433543</td>\n",
       "      <td>0.112984</td>\n",
       "      <td>0.290038</td>\n",
       "      <td>1.000000</td>\n",
       "      <td>0.426713</td>\n",
       "      <td>0.356997</td>\n",
       "      <td>0.248883</td>\n",
       "      <td>0.837487</td>\n",
       "      <td>0.499212</td>\n",
       "    </tr>\n",
       "    <tr>\n",
       "      <th>To Wound</th>\n",
       "      <td>0.001341</td>\n",
       "      <td>0.301327</td>\n",
       "      <td>0.500854</td>\n",
       "      <td>0.075131</td>\n",
       "      <td>0.411311</td>\n",
       "      <td>0.393754</td>\n",
       "      <td>0.274617</td>\n",
       "      <td>0.332622</td>\n",
       "      <td>0.426713</td>\n",
       "      <td>1.000000</td>\n",
       "      <td>0.590468</td>\n",
       "      <td>0.170627</td>\n",
       "      <td>0.797602</td>\n",
       "      <td>0.477355</td>\n",
       "    </tr>\n",
       "    <tr>\n",
       "      <th>Rend</th>\n",
       "      <td>-0.027773</td>\n",
       "      <td>0.294289</td>\n",
       "      <td>0.479123</td>\n",
       "      <td>0.073696</td>\n",
       "      <td>0.280602</td>\n",
       "      <td>0.406133</td>\n",
       "      <td>0.274404</td>\n",
       "      <td>0.316688</td>\n",
       "      <td>0.356997</td>\n",
       "      <td>0.590468</td>\n",
       "      <td>1.000000</td>\n",
       "      <td>0.363355</td>\n",
       "      <td>0.587969</td>\n",
       "      <td>0.509477</td>\n",
       "    </tr>\n",
       "    <tr>\n",
       "      <th>Damage</th>\n",
       "      <td>0.051443</td>\n",
       "      <td>0.396208</td>\n",
       "      <td>0.117241</td>\n",
       "      <td>0.163684</td>\n",
       "      <td>-0.003288</td>\n",
       "      <td>0.292758</td>\n",
       "      <td>0.458549</td>\n",
       "      <td>0.198639</td>\n",
       "      <td>0.248883</td>\n",
       "      <td>0.170627</td>\n",
       "      <td>0.363355</td>\n",
       "      <td>1.000000</td>\n",
       "      <td>0.247157</td>\n",
       "      <td>0.757222</td>\n",
       "    </tr>\n",
       "    <tr>\n",
       "      <th>To Hit &amp; Wound</th>\n",
       "      <td>0.123193</td>\n",
       "      <td>0.371547</td>\n",
       "      <td>0.578732</td>\n",
       "      <td>0.123870</td>\n",
       "      <td>0.479947</td>\n",
       "      <td>0.543460</td>\n",
       "      <td>0.240275</td>\n",
       "      <td>0.365613</td>\n",
       "      <td>0.837487</td>\n",
       "      <td>0.797602</td>\n",
       "      <td>0.587969</td>\n",
       "      <td>0.247157</td>\n",
       "      <td>1.000000</td>\n",
       "      <td>0.612757</td>\n",
       "    </tr>\n",
       "    <tr>\n",
       "      <th>Expected Total Damage</th>\n",
       "      <td>0.192977</td>\n",
       "      <td>0.604972</td>\n",
       "      <td>0.405728</td>\n",
       "      <td>0.228069</td>\n",
       "      <td>0.306073</td>\n",
       "      <td>0.550750</td>\n",
       "      <td>0.178046</td>\n",
       "      <td>0.658148</td>\n",
       "      <td>0.499212</td>\n",
       "      <td>0.477355</td>\n",
       "      <td>0.509477</td>\n",
       "      <td>0.757222</td>\n",
       "      <td>0.612757</td>\n",
       "      <td>1.000000</td>\n",
       "    </tr>\n",
       "  </tbody>\n",
       "</table>\n",
       "</div>"
      ],
      "text/plain": [
       "                           Move    Wounds      Save   Bravery     Price  \\\n",
       "Move                   1.000000  0.246795  0.191507  0.228354 -0.034619   \n",
       "Wounds                 0.246795  1.000000  0.562918  0.221682  0.437799   \n",
       "Save                   0.191507  0.562918  1.000000  0.240721  0.502099   \n",
       "Bravery                0.228354  0.221682  0.240721  1.000000 -0.011570   \n",
       "Price                 -0.034619  0.437799  0.502099 -0.011570  1.000000   \n",
       "Points                 0.059236  0.576197  0.578530  0.154284  0.523995   \n",
       "Range                  0.115070  0.022174 -0.008883 -0.002560 -0.125148   \n",
       "Attacks                0.280616  0.422159  0.383064  0.276802  0.291080   \n",
       "To Hit                 0.130038  0.301864  0.442782  0.135399  0.409725   \n",
       "To Wound               0.001341  0.301327  0.500854  0.075131  0.411311   \n",
       "Rend                  -0.027773  0.294289  0.479123  0.073696  0.280602   \n",
       "Damage                 0.051443  0.396208  0.117241  0.163684 -0.003288   \n",
       "To Hit & Wound         0.123193  0.371547  0.578732  0.123870  0.479947   \n",
       "Expected Total Damage  0.192977  0.604972  0.405728  0.228069  0.306073   \n",
       "\n",
       "                         Points     Range   Attacks    To Hit  To Wound  \\\n",
       "Move                   0.059236  0.115070  0.280616  0.130038  0.001341   \n",
       "Wounds                 0.576197  0.022174  0.422159  0.301864  0.301327   \n",
       "Save                   0.578530 -0.008883  0.383064  0.442782  0.500854   \n",
       "Bravery                0.154284 -0.002560  0.276802  0.135399  0.075131   \n",
       "Price                  0.523995 -0.125148  0.291080  0.409725  0.411311   \n",
       "Points                 1.000000  0.030161  0.361940  0.433543  0.393754   \n",
       "Range                  0.030161  1.000000 -0.198633  0.112984  0.274617   \n",
       "Attacks                0.361940 -0.198633  1.000000  0.290038  0.332622   \n",
       "To Hit                 0.433543  0.112984  0.290038  1.000000  0.426713   \n",
       "To Wound               0.393754  0.274617  0.332622  0.426713  1.000000   \n",
       "Rend                   0.406133  0.274404  0.316688  0.356997  0.590468   \n",
       "Damage                 0.292758  0.458549  0.198639  0.248883  0.170627   \n",
       "To Hit & Wound         0.543460  0.240275  0.365613  0.837487  0.797602   \n",
       "Expected Total Damage  0.550750  0.178046  0.658148  0.499212  0.477355   \n",
       "\n",
       "                           Rend    Damage  To Hit & Wound  \\\n",
       "Move                  -0.027773  0.051443        0.123193   \n",
       "Wounds                 0.294289  0.396208        0.371547   \n",
       "Save                   0.479123  0.117241        0.578732   \n",
       "Bravery                0.073696  0.163684        0.123870   \n",
       "Price                  0.280602 -0.003288        0.479947   \n",
       "Points                 0.406133  0.292758        0.543460   \n",
       "Range                  0.274404  0.458549        0.240275   \n",
       "Attacks                0.316688  0.198639        0.365613   \n",
       "To Hit                 0.356997  0.248883        0.837487   \n",
       "To Wound               0.590468  0.170627        0.797602   \n",
       "Rend                   1.000000  0.363355        0.587969   \n",
       "Damage                 0.363355  1.000000        0.247157   \n",
       "To Hit & Wound         0.587969  0.247157        1.000000   \n",
       "Expected Total Damage  0.509477  0.757222        0.612757   \n",
       "\n",
       "                       Expected Total Damage  \n",
       "Move                                0.192977  \n",
       "Wounds                              0.604972  \n",
       "Save                                0.405728  \n",
       "Bravery                             0.228069  \n",
       "Price                               0.306073  \n",
       "Points                              0.550750  \n",
       "Range                               0.178046  \n",
       "Attacks                             0.658148  \n",
       "To Hit                              0.499212  \n",
       "To Wound                            0.477355  \n",
       "Rend                                0.509477  \n",
       "Damage                              0.757222  \n",
       "To Hit & Wound                      0.612757  \n",
       "Expected Total Damage               1.000000  "
      ]
     },
     "execution_count": 24,
     "metadata": {},
     "output_type": "execute_result"
    }
   ],
   "source": [
    "correlation_matrix"
   ]
  },
  {
   "cell_type": "markdown",
   "id": "4e3c0d1e-82ab-4d3f-a8e7-7a00b3fcfef6",
   "metadata": {},
   "source": [
    "#### Interpretation"
   ]
  },
  {
   "cell_type": "markdown",
   "id": "c231134c-a081-4f3b-b857-e82849b158e3",
   "metadata": {},
   "source": [
    "Regarding the interpretation of these correlations, some are more significant than others. Let's exclude the following ones due to their obviousness:\n",
    "\n",
    "To Hit & Wound and Expected Total Damage (0.613)\n",
    "To Hit and To Hit & Wound (0.837)\n",
    "Expected Total Damage and Damage (0.757)  "
   ]
  },
  {
   "cell_type": "markdown",
   "id": "387dfe7a-8f6f-4ec8-ac5f-a1f8ba9f8521",
   "metadata": {},
   "source": [
    "Now, let's focus on others that are more notable:"
   ]
  },
  {
   "cell_type": "markdown",
   "id": "73d4f5f1-b15c-4b00-bc44-d5b89eba123f",
   "metadata": {},
   "source": [
    "**Wounds and Points (0.576)**: There is a strong positive correlation between the number of wounds a unit has and its points value. Units with more wounds tend to have higher points costs."
   ]
  },
  {
   "cell_type": "markdown",
   "id": "26de11dd-385d-4ef0-a35e-2007e8e9ab34",
   "metadata": {},
   "source": [
    "**Expected Total Damage and Attacks (0.658)**: The expected total damage a unit can deal has a strong positive correlation with the number of attacks it can make. Units with more attacks are likely to have higher expected total damage."
   ]
  },
  {
   "cell_type": "markdown",
   "id": "a1993de5-72cc-4108-871e-6733a4110ecc",
   "metadata": {},
   "source": [
    "**Save and Points (0.578)**: The save characteristic of a unit shows a moderate positive correlation with its points value. Units with better save characteristics may have higher points costs."
   ]
  },
  {
   "cell_type": "markdown",
   "id": "f0b837ab-4cc7-41a9-ab73-9958be43881e",
   "metadata": {},
   "source": [
    "## Melee and Missile Unit Characteristics"
   ]
  },
  {
   "cell_type": "markdown",
   "id": "8d06151f-aae1-4102-85a3-ef74492cfa93",
   "metadata": {},
   "source": [
    "### Statistics of Kind of Weapons"
   ]
  },
  {
   "cell_type": "code",
   "execution_count": 25,
   "id": "e5ccab9a-8b79-428c-a1ea-c5e97e94e575",
   "metadata": {},
   "outputs": [],
   "source": [
    "mele_weapons = sigmar[sigmar['Kind'] == 'Mele weapon']\n",
    "missile_weapons = sigmar[sigmar['Kind'] == 'Missile weapon']"
   ]
  },
  {
   "cell_type": "markdown",
   "id": "af480ada-4fb3-42c4-9a7c-aa33a0f83368",
   "metadata": {},
   "source": [
    "#### Total number of melee and missile units"
   ]
  },
  {
   "cell_type": "code",
   "execution_count": 26,
   "id": "a8c76ea0-e616-4fa9-9d2d-92636277027f",
   "metadata": {},
   "outputs": [
    {
     "name": "stdout",
     "output_type": "stream",
     "text": [
      "Total Units:\n",
      "Kind\n",
      "Mele weapon       44\n",
      "Missile weapon     7\n",
      "Name: count, dtype: int64\n"
     ]
    }
   ],
   "source": [
    "total_units = sigmar['Kind'].value_counts()\n",
    "\n",
    "print(\"Total Units:\")\n",
    "print(total_units)"
   ]
  },
  {
   "cell_type": "markdown",
   "id": "add3f208-3bda-48b7-9348-0bf7e5dd553e",
   "metadata": {},
   "source": [
    "We only have 7 missile units, let's see which factions and alliances they belong to"
   ]
  },
  {
   "cell_type": "markdown",
   "id": "6a0bf25f-8ea2-4deb-8062-bd77d1b86f27",
   "metadata": {},
   "source": [
    "#### Number of units per faction and alliance for Missile weapons"
   ]
  },
  {
   "cell_type": "code",
   "execution_count": 27,
   "id": "f1708719-d34a-418a-b001-c91ead49f799",
   "metadata": {},
   "outputs": [
    {
     "name": "stdout",
     "output_type": "stream",
     "text": [
      "\n",
      "Units per Faction and Alliance (Missile weapons only):\n",
      "  Grand Alliance             Faction            Kind  Unit Count\n",
      "0          Chaos              Skaven  Missile weapon           1\n",
      "1          Chaos            Tzeentch  Missile weapon           1\n",
      "2          Death          Nighthaunt  Missile weapon           1\n",
      "3    Destruction      Ogor Mawtribes  Missile weapon           1\n",
      "4          Order         Free cities  Missile weapon           1\n",
      "5          Order  Stormcast Eternals  Missile weapon           1\n",
      "6          Order           Sylvaneth  Missile weapon           1\n"
     ]
    }
   ],
   "source": [
    "# Number of units per faction for Missile weapons\n",
    "faction_alliance_units_missile = sigmar[sigmar['Kind'] == 'Missile weapon'].groupby(['Grand Alliance', 'Faction', 'Kind']).size().reset_index(name='Unit Count')\n",
    "\n",
    "print(\"\\nUnits per Faction and Alliance (Missile weapons only):\")\n",
    "print(faction_alliance_units_missile)"
   ]
  },
  {
   "cell_type": "code",
   "execution_count": 28,
   "id": "e32da423-1e69-45dd-81ba-54685a15712a",
   "metadata": {},
   "outputs": [
    {
     "name": "stdout",
     "output_type": "stream",
     "text": [
      "\n",
      "Units per Alliance (Missile weapons only):\n",
      "  Grand Alliance            Kind  Unit Count\n",
      "0          Chaos  Missile weapon           2\n",
      "1          Death  Missile weapon           1\n",
      "2    Destruction  Missile weapon           1\n",
      "3          Order  Missile weapon           3\n"
     ]
    }
   ],
   "source": [
    "# Number of units per alliance for Missile weapons\n",
    "alliance_units_missile = sigmar[sigmar['Kind'] == 'Missile weapon'].groupby(['Grand Alliance', 'Kind']).size().reset_index(name='Unit Count')\n",
    "\n",
    "print(\"\\nUnits per Alliance (Missile weapons only):\")\n",
    "print(alliance_units_missile)"
   ]
  },
  {
   "cell_type": "markdown",
   "id": "68433c5d-c5a3-4575-9334-62580a90abc9",
   "metadata": {},
   "source": [
    "#### Interpretation"
   ]
  },
  {
   "cell_type": "markdown",
   "id": "d4d872f6-3790-41a1-be3a-b616386939dd",
   "metadata": {},
   "source": [
    "We can see that we are fortunate to have at least one unit for each alliance, although they are not evenly distributed. The Order alliance has the most units of this type (3)."
   ]
  },
  {
   "cell_type": "markdown",
   "id": "48bcbb4f-9cdf-413c-9370-63920bddb449",
   "metadata": {},
   "source": [
    "On the other hand, we have one unit per faction, which also aids in the analysis. However, we only have 7 units in total to analyze, which may not have significant meaning, and we may not be able to draw decisive conclusions."
   ]
  },
  {
   "cell_type": "markdown",
   "id": "a51c2626-5a89-4f67-ba4f-26664f7519f6",
   "metadata": {},
   "source": [
    "### General comparison between melee and missile weapons means"
   ]
  },
  {
   "cell_type": "code",
   "execution_count": 29,
   "id": "9ec96096-020e-4916-8c4e-bb61a4c31e59",
   "metadata": {},
   "outputs": [],
   "source": [
    "mele_stats = mele_weapons[['Move', 'Wounds', 'Save', 'Bravery', 'Price', 'Points', 'Range', 'Attacks', 'To Hit', 'To Wound', 'Rend', 'Damage', 'To Hit & Wound', 'Expected Total Damage']].mean()\n",
    "missile_stats = missile_weapons[['Move', 'Wounds', 'Save', 'Bravery', 'Price', 'Points', 'Range', 'Attacks', 'To Hit', 'To Wound', 'Rend', 'Damage', 'To Hit & Wound', 'Expected Total Damage']].mean()\n",
    "\n",
    "combined_stats = pd.DataFrame({'Mele weapons': mele_stats, 'Missile weapons': missile_stats})\n",
    "combined_stats = combined_stats.transpose()"
   ]
  },
  {
   "cell_type": "code",
   "execution_count": 30,
   "id": "4bbfaaa6-3c44-40c9-80c5-4359825cc980",
   "metadata": {},
   "outputs": [
    {
     "data": {
      "text/html": [
       "<div>\n",
       "<style scoped>\n",
       "    .dataframe tbody tr th:only-of-type {\n",
       "        vertical-align: middle;\n",
       "    }\n",
       "\n",
       "    .dataframe tbody tr th {\n",
       "        vertical-align: top;\n",
       "    }\n",
       "\n",
       "    .dataframe thead th {\n",
       "        text-align: right;\n",
       "    }\n",
       "</style>\n",
       "<table border=\"1\" class=\"dataframe\">\n",
       "  <thead>\n",
       "    <tr style=\"text-align: right;\">\n",
       "      <th></th>\n",
       "      <th>Move</th>\n",
       "      <th>Wounds</th>\n",
       "      <th>Save</th>\n",
       "      <th>Bravery</th>\n",
       "      <th>Price</th>\n",
       "      <th>Points</th>\n",
       "      <th>Range</th>\n",
       "      <th>Attacks</th>\n",
       "      <th>To Hit</th>\n",
       "      <th>To Wound</th>\n",
       "      <th>Rend</th>\n",
       "      <th>Damage</th>\n",
       "      <th>To Hit &amp; Wound</th>\n",
       "      <th>Expected Total Damage</th>\n",
       "    </tr>\n",
       "  </thead>\n",
       "  <tbody>\n",
       "    <tr>\n",
       "      <th>Mele weapons</th>\n",
       "      <td>5.909091</td>\n",
       "      <td>1.840909</td>\n",
       "      <td>0.394091</td>\n",
       "      <td>0.931591</td>\n",
       "      <td>45.386364</td>\n",
       "      <td>147.727273</td>\n",
       "      <td>1.431818</td>\n",
       "      <td>2.136364</td>\n",
       "      <td>0.396136</td>\n",
       "      <td>0.430682</td>\n",
       "      <td>0.659091</td>\n",
       "      <td>1.159091</td>\n",
       "      <td>0.173409</td>\n",
       "      <td>0.485682</td>\n",
       "    </tr>\n",
       "    <tr>\n",
       "      <th>Missile weapons</th>\n",
       "      <td>7.714286</td>\n",
       "      <td>2.000000</td>\n",
       "      <td>0.378571</td>\n",
       "      <td>1.022857</td>\n",
       "      <td>44.285714</td>\n",
       "      <td>152.857143</td>\n",
       "      <td>21.428571</td>\n",
       "      <td>1.714286</td>\n",
       "      <td>0.427143</td>\n",
       "      <td>0.475714</td>\n",
       "      <td>1.000000</td>\n",
       "      <td>1.714286</td>\n",
       "      <td>0.204286</td>\n",
       "      <td>0.642857</td>\n",
       "    </tr>\n",
       "  </tbody>\n",
       "</table>\n",
       "</div>"
      ],
      "text/plain": [
       "                     Move    Wounds      Save   Bravery      Price  \\\n",
       "Mele weapons     5.909091  1.840909  0.394091  0.931591  45.386364   \n",
       "Missile weapons  7.714286  2.000000  0.378571  1.022857  44.285714   \n",
       "\n",
       "                     Points      Range   Attacks    To Hit  To Wound  \\\n",
       "Mele weapons     147.727273   1.431818  2.136364  0.396136  0.430682   \n",
       "Missile weapons  152.857143  21.428571  1.714286  0.427143  0.475714   \n",
       "\n",
       "                     Rend    Damage  To Hit & Wound  Expected Total Damage  \n",
       "Mele weapons     0.659091  1.159091        0.173409               0.485682  \n",
       "Missile weapons  1.000000  1.714286        0.204286               0.642857  "
      ]
     },
     "execution_count": 30,
     "metadata": {},
     "output_type": "execute_result"
    }
   ],
   "source": [
    "combined_stats"
   ]
  },
  {
   "cell_type": "markdown",
   "id": "7e376e4e-8d25-43bf-8e20-bb3bf1f921a5",
   "metadata": {},
   "source": [
    "#### Interpretation"
   ]
  },
  {
   "cell_type": "markdown",
   "id": "7f53e34d-2112-4887-ad08-27a22e8f242b",
   "metadata": {},
   "source": [
    " Missile weapons generally have a higher Move value compared to Mele weapons. On average, also have slightly higher Wounds compared to Mele weapons, as well as generally have a higher average Points value. Besides, theys are better at Rend values,Damageand the Expected Total Damage.han Mele weapons."
   ]
  },
  {
   "cell_type": "markdown",
   "id": "65156f19-86b1-444f-b8c2-42346eb18a9e",
   "metadata": {},
   "source": [
    "Mele weapons tend to have a higher average number of Attacks."
   ]
  },
  {
   "cell_type": "markdown",
   "id": "4eb9c1fa-170e-4893-8d61-7262e4a270ae",
   "metadata": {},
   "source": [
    "We can conclude that, for the sample we have taken, missile units are much more powerful in almost every aspect than melee units"
   ]
  },
  {
   "cell_type": "markdown",
   "id": "e343ac10-47fb-46ad-a4b4-4bcb24736144",
   "metadata": {},
   "source": [
    "### Means of Misile weapons grouped by their Faction"
   ]
  },
  {
   "cell_type": "markdown",
   "id": "8ea67f2e-bb5c-4772-a45e-f5c443e86da4",
   "metadata": {},
   "source": [
    "Since we only have three examples of units with missile weapons, and these belong to 7 different factions, let's examine them in detail"
   ]
  },
  {
   "cell_type": "code",
   "execution_count": 31,
   "id": "d48107b5-c9db-43b5-b42b-18edf31a3834",
   "metadata": {},
   "outputs": [
    {
     "data": {
      "text/html": [
       "<div>\n",
       "<style scoped>\n",
       "    .dataframe tbody tr th:only-of-type {\n",
       "        vertical-align: middle;\n",
       "    }\n",
       "\n",
       "    .dataframe tbody tr th {\n",
       "        vertical-align: top;\n",
       "    }\n",
       "\n",
       "    .dataframe thead th {\n",
       "        text-align: right;\n",
       "    }\n",
       "</style>\n",
       "<table border=\"1\" class=\"dataframe\">\n",
       "  <thead>\n",
       "    <tr style=\"text-align: right;\">\n",
       "      <th></th>\n",
       "      <th></th>\n",
       "      <th>Move</th>\n",
       "      <th>Wounds</th>\n",
       "      <th>Save</th>\n",
       "      <th>Bravery</th>\n",
       "      <th>Price</th>\n",
       "      <th>Points</th>\n",
       "      <th>Range</th>\n",
       "      <th>Attacks</th>\n",
       "      <th>To Hit</th>\n",
       "      <th>To Wound</th>\n",
       "      <th>Rend</th>\n",
       "      <th>Damage</th>\n",
       "      <th>To Hit &amp; Wound</th>\n",
       "      <th>Expected Total Damage</th>\n",
       "    </tr>\n",
       "    <tr>\n",
       "      <th>Grand Alliance</th>\n",
       "      <th>Faction</th>\n",
       "      <th></th>\n",
       "      <th></th>\n",
       "      <th></th>\n",
       "      <th></th>\n",
       "      <th></th>\n",
       "      <th></th>\n",
       "      <th></th>\n",
       "      <th></th>\n",
       "      <th></th>\n",
       "      <th></th>\n",
       "      <th></th>\n",
       "      <th></th>\n",
       "      <th></th>\n",
       "      <th></th>\n",
       "    </tr>\n",
       "  </thead>\n",
       "  <tbody>\n",
       "    <tr>\n",
       "      <th rowspan=\"2\" valign=\"top\">Chaos</th>\n",
       "      <th>Skaven</th>\n",
       "      <td>6.0</td>\n",
       "      <td>1.0</td>\n",
       "      <td>0.33</td>\n",
       "      <td>0.50</td>\n",
       "      <td>45.0</td>\n",
       "      <td>110.0</td>\n",
       "      <td>30.0</td>\n",
       "      <td>1.0</td>\n",
       "      <td>0.50</td>\n",
       "      <td>0.50</td>\n",
       "      <td>2.0</td>\n",
       "      <td>2.0</td>\n",
       "      <td>0.25</td>\n",
       "      <td>0.50</td>\n",
       "    </tr>\n",
       "    <tr>\n",
       "      <th>Tzeentch</th>\n",
       "      <td>12.0</td>\n",
       "      <td>3.0</td>\n",
       "      <td>0.33</td>\n",
       "      <td>1.50</td>\n",
       "      <td>35.0</td>\n",
       "      <td>170.0</td>\n",
       "      <td>18.0</td>\n",
       "      <td>3.0</td>\n",
       "      <td>0.50</td>\n",
       "      <td>0.33</td>\n",
       "      <td>0.0</td>\n",
       "      <td>3.0</td>\n",
       "      <td>0.16</td>\n",
       "      <td>1.44</td>\n",
       "    </tr>\n",
       "    <tr>\n",
       "      <th>Death</th>\n",
       "      <th>Nighthaunt</th>\n",
       "      <td>8.0</td>\n",
       "      <td>1.0</td>\n",
       "      <td>0.33</td>\n",
       "      <td>1.50</td>\n",
       "      <td>50.0</td>\n",
       "      <td>90.0</td>\n",
       "      <td>12.0</td>\n",
       "      <td>2.0</td>\n",
       "      <td>0.33</td>\n",
       "      <td>0.33</td>\n",
       "      <td>1.0</td>\n",
       "      <td>1.0</td>\n",
       "      <td>0.11</td>\n",
       "      <td>0.22</td>\n",
       "    </tr>\n",
       "    <tr>\n",
       "      <th>Destruction</th>\n",
       "      <th>Ogor Mawtribes</th>\n",
       "      <td>6.0</td>\n",
       "      <td>4.0</td>\n",
       "      <td>0.50</td>\n",
       "      <td>1.00</td>\n",
       "      <td>50.0</td>\n",
       "      <td>160.0</td>\n",
       "      <td>18.0</td>\n",
       "      <td>1.0</td>\n",
       "      <td>0.33</td>\n",
       "      <td>0.50</td>\n",
       "      <td>1.0</td>\n",
       "      <td>1.0</td>\n",
       "      <td>0.16</td>\n",
       "      <td>0.16</td>\n",
       "    </tr>\n",
       "    <tr>\n",
       "      <th rowspan=\"3\" valign=\"top\">Order</th>\n",
       "      <th>Free cities</th>\n",
       "      <td>5.0</td>\n",
       "      <td>1.0</td>\n",
       "      <td>0.33</td>\n",
       "      <td>0.83</td>\n",
       "      <td>25.0</td>\n",
       "      <td>100.0</td>\n",
       "      <td>30.0</td>\n",
       "      <td>1.0</td>\n",
       "      <td>0.33</td>\n",
       "      <td>0.50</td>\n",
       "      <td>1.0</td>\n",
       "      <td>2.0</td>\n",
       "      <td>0.16</td>\n",
       "      <td>0.32</td>\n",
       "    </tr>\n",
       "    <tr>\n",
       "      <th>Stormcast Eternals</th>\n",
       "      <td>5.0</td>\n",
       "      <td>2.0</td>\n",
       "      <td>0.50</td>\n",
       "      <td>1.00</td>\n",
       "      <td>45.0</td>\n",
       "      <td>230.0</td>\n",
       "      <td>30.0</td>\n",
       "      <td>2.0</td>\n",
       "      <td>0.50</td>\n",
       "      <td>0.67</td>\n",
       "      <td>2.0</td>\n",
       "      <td>2.0</td>\n",
       "      <td>0.34</td>\n",
       "      <td>1.36</td>\n",
       "    </tr>\n",
       "    <tr>\n",
       "      <th>Sylvaneth</th>\n",
       "      <td>12.0</td>\n",
       "      <td>2.0</td>\n",
       "      <td>0.33</td>\n",
       "      <td>0.83</td>\n",
       "      <td>60.0</td>\n",
       "      <td>210.0</td>\n",
       "      <td>12.0</td>\n",
       "      <td>2.0</td>\n",
       "      <td>0.50</td>\n",
       "      <td>0.50</td>\n",
       "      <td>0.0</td>\n",
       "      <td>1.0</td>\n",
       "      <td>0.25</td>\n",
       "      <td>0.50</td>\n",
       "    </tr>\n",
       "  </tbody>\n",
       "</table>\n",
       "</div>"
      ],
      "text/plain": [
       "                                   Move  Wounds  Save  Bravery  Price  Points  \\\n",
       "Grand Alliance Faction                                                          \n",
       "Chaos          Skaven               6.0     1.0  0.33     0.50   45.0   110.0   \n",
       "               Tzeentch            12.0     3.0  0.33     1.50   35.0   170.0   \n",
       "Death          Nighthaunt           8.0     1.0  0.33     1.50   50.0    90.0   \n",
       "Destruction    Ogor Mawtribes       6.0     4.0  0.50     1.00   50.0   160.0   \n",
       "Order          Free cities          5.0     1.0  0.33     0.83   25.0   100.0   \n",
       "               Stormcast Eternals   5.0     2.0  0.50     1.00   45.0   230.0   \n",
       "               Sylvaneth           12.0     2.0  0.33     0.83   60.0   210.0   \n",
       "\n",
       "                                   Range  Attacks  To Hit  To Wound  Rend  \\\n",
       "Grand Alliance Faction                                                      \n",
       "Chaos          Skaven               30.0      1.0    0.50      0.50   2.0   \n",
       "               Tzeentch             18.0      3.0    0.50      0.33   0.0   \n",
       "Death          Nighthaunt           12.0      2.0    0.33      0.33   1.0   \n",
       "Destruction    Ogor Mawtribes       18.0      1.0    0.33      0.50   1.0   \n",
       "Order          Free cities          30.0      1.0    0.33      0.50   1.0   \n",
       "               Stormcast Eternals   30.0      2.0    0.50      0.67   2.0   \n",
       "               Sylvaneth            12.0      2.0    0.50      0.50   0.0   \n",
       "\n",
       "                                   Damage  To Hit & Wound  \\\n",
       "Grand Alliance Faction                                      \n",
       "Chaos          Skaven                 2.0            0.25   \n",
       "               Tzeentch               3.0            0.16   \n",
       "Death          Nighthaunt             1.0            0.11   \n",
       "Destruction    Ogor Mawtribes         1.0            0.16   \n",
       "Order          Free cities            2.0            0.16   \n",
       "               Stormcast Eternals     2.0            0.34   \n",
       "               Sylvaneth              1.0            0.25   \n",
       "\n",
       "                                   Expected Total Damage  \n",
       "Grand Alliance Faction                                    \n",
       "Chaos          Skaven                               0.50  \n",
       "               Tzeentch                             1.44  \n",
       "Death          Nighthaunt                           0.22  \n",
       "Destruction    Ogor Mawtribes                       0.16  \n",
       "Order          Free cities                          0.32  \n",
       "               Stormcast Eternals                   1.36  \n",
       "               Sylvaneth                            0.50  "
      ]
     },
     "execution_count": 31,
     "metadata": {},
     "output_type": "execute_result"
    }
   ],
   "source": [
    "missile_weapon_stats_factions = sigmar[sigmar['Kind'] == 'Missile weapon'].groupby(['Grand Alliance', 'Faction'])[['Move', 'Wounds', 'Save', 'Bravery', 'Price', 'Points', 'Range', 'Attacks', 'To Hit', 'To Wound', 'Rend', 'Damage', 'To Hit & Wound', 'Expected Total Damage']].mean()\n",
    "\n",
    "missile_weapon_stats_factions"
   ]
  },
  {
   "cell_type": "markdown",
   "id": "dc8d40af-1a97-41a7-857b-5784bcc55797",
   "metadata": {},
   "source": [
    "#### Interpretation"
   ]
  },
  {
   "cell_type": "markdown",
   "id": "a16b83f4-3c8f-4114-a181-1a76edb94b61",
   "metadata": {},
   "source": [
    "Entre these missile units, we see some that stand out, such as the Tzeentch faction, with a high movement (12) and the highest expected damage (1.44, considering it performs 3 attacks), also having a very long range. On the other hand, it is a rather weak unit with only one wound, little ability to defend against an attack, and it will easily flee.\r\n",
    "Some units stand out for their wounds, such as the Ogor Mawtribes, and others for their price, like those of Sylvaneth."
   ]
  },
  {
   "cell_type": "markdown",
   "id": "2de28bfc-4c9b-437a-a7df-67b649abcbe9",
   "metadata": {},
   "source": [
    "### Means of Misile/Mele weapons grouped by their Alliance and their differences"
   ]
  },
  {
   "cell_type": "code",
   "execution_count": 32,
   "id": "e505b049-7b3a-4240-abf0-dd33730cadee",
   "metadata": {},
   "outputs": [
    {
     "data": {
      "text/html": [
       "<div>\n",
       "<style scoped>\n",
       "    .dataframe tbody tr th:only-of-type {\n",
       "        vertical-align: middle;\n",
       "    }\n",
       "\n",
       "    .dataframe tbody tr th {\n",
       "        vertical-align: top;\n",
       "    }\n",
       "\n",
       "    .dataframe thead th {\n",
       "        text-align: right;\n",
       "    }\n",
       "</style>\n",
       "<table border=\"1\" class=\"dataframe\">\n",
       "  <thead>\n",
       "    <tr style=\"text-align: right;\">\n",
       "      <th></th>\n",
       "      <th>Grand Alliance</th>\n",
       "      <th>Weapon Type</th>\n",
       "      <th>Move</th>\n",
       "      <th>Wounds</th>\n",
       "      <th>Save</th>\n",
       "      <th>Bravery</th>\n",
       "      <th>Price</th>\n",
       "      <th>Points</th>\n",
       "      <th>Range</th>\n",
       "      <th>Attacks</th>\n",
       "      <th>To Hit</th>\n",
       "      <th>To Wound</th>\n",
       "      <th>Rend</th>\n",
       "      <th>Damage</th>\n",
       "      <th>To Hit &amp; Wound</th>\n",
       "      <th>Expected Total Damage</th>\n",
       "    </tr>\n",
       "  </thead>\n",
       "  <tbody>\n",
       "    <tr>\n",
       "      <th>0</th>\n",
       "      <td>Chaos</td>\n",
       "      <td>Missile</td>\n",
       "      <td>9.000000</td>\n",
       "      <td>2.000000</td>\n",
       "      <td>0.330000</td>\n",
       "      <td>1.000000</td>\n",
       "      <td>40.000000</td>\n",
       "      <td>140.000000</td>\n",
       "      <td>24.000000</td>\n",
       "      <td>2.000000</td>\n",
       "      <td>0.500000</td>\n",
       "      <td>0.415000</td>\n",
       "      <td>1.000000</td>\n",
       "      <td>2.500000</td>\n",
       "      <td>0.205000</td>\n",
       "      <td>0.970000</td>\n",
       "    </tr>\n",
       "    <tr>\n",
       "      <th>1</th>\n",
       "      <td>Death</td>\n",
       "      <td>Missile</td>\n",
       "      <td>8.000000</td>\n",
       "      <td>1.000000</td>\n",
       "      <td>0.330000</td>\n",
       "      <td>1.500000</td>\n",
       "      <td>50.000000</td>\n",
       "      <td>90.000000</td>\n",
       "      <td>12.000000</td>\n",
       "      <td>2.000000</td>\n",
       "      <td>0.330000</td>\n",
       "      <td>0.330000</td>\n",
       "      <td>1.000000</td>\n",
       "      <td>1.000000</td>\n",
       "      <td>0.110000</td>\n",
       "      <td>0.220000</td>\n",
       "    </tr>\n",
       "    <tr>\n",
       "      <th>2</th>\n",
       "      <td>Destruction</td>\n",
       "      <td>Missile</td>\n",
       "      <td>6.000000</td>\n",
       "      <td>4.000000</td>\n",
       "      <td>0.500000</td>\n",
       "      <td>1.000000</td>\n",
       "      <td>50.000000</td>\n",
       "      <td>160.000000</td>\n",
       "      <td>18.000000</td>\n",
       "      <td>1.000000</td>\n",
       "      <td>0.330000</td>\n",
       "      <td>0.500000</td>\n",
       "      <td>1.000000</td>\n",
       "      <td>1.000000</td>\n",
       "      <td>0.160000</td>\n",
       "      <td>0.160000</td>\n",
       "    </tr>\n",
       "    <tr>\n",
       "      <th>3</th>\n",
       "      <td>Order</td>\n",
       "      <td>Missile</td>\n",
       "      <td>7.333333</td>\n",
       "      <td>1.666667</td>\n",
       "      <td>0.386667</td>\n",
       "      <td>0.886667</td>\n",
       "      <td>43.333333</td>\n",
       "      <td>180.000000</td>\n",
       "      <td>24.000000</td>\n",
       "      <td>1.666667</td>\n",
       "      <td>0.443333</td>\n",
       "      <td>0.556667</td>\n",
       "      <td>1.000000</td>\n",
       "      <td>1.666667</td>\n",
       "      <td>0.250000</td>\n",
       "      <td>0.726667</td>\n",
       "    </tr>\n",
       "    <tr>\n",
       "      <th>4</th>\n",
       "      <td>Chaos</td>\n",
       "      <td>Melee</td>\n",
       "      <td>6.181818</td>\n",
       "      <td>1.272727</td>\n",
       "      <td>0.318182</td>\n",
       "      <td>0.924545</td>\n",
       "      <td>40.818182</td>\n",
       "      <td>132.727273</td>\n",
       "      <td>1.181818</td>\n",
       "      <td>1.727273</td>\n",
       "      <td>0.422727</td>\n",
       "      <td>0.422727</td>\n",
       "      <td>0.272727</td>\n",
       "      <td>1.000000</td>\n",
       "      <td>0.175455</td>\n",
       "      <td>0.324545</td>\n",
       "    </tr>\n",
       "    <tr>\n",
       "      <th>5</th>\n",
       "      <td>Death</td>\n",
       "      <td>Melee</td>\n",
       "      <td>6.000000</td>\n",
       "      <td>1.625000</td>\n",
       "      <td>0.333750</td>\n",
       "      <td>0.896250</td>\n",
       "      <td>45.000000</td>\n",
       "      <td>135.000000</td>\n",
       "      <td>1.375000</td>\n",
       "      <td>2.250000</td>\n",
       "      <td>0.352500</td>\n",
       "      <td>0.393750</td>\n",
       "      <td>0.375000</td>\n",
       "      <td>1.125000</td>\n",
       "      <td>0.140000</td>\n",
       "      <td>0.411250</td>\n",
       "    </tr>\n",
       "    <tr>\n",
       "      <th>6</th>\n",
       "      <td>Destruction</td>\n",
       "      <td>Melee</td>\n",
       "      <td>5.500000</td>\n",
       "      <td>2.625000</td>\n",
       "      <td>0.436250</td>\n",
       "      <td>0.873750</td>\n",
       "      <td>49.625000</td>\n",
       "      <td>177.500000</td>\n",
       "      <td>2.000000</td>\n",
       "      <td>2.625000</td>\n",
       "      <td>0.415000</td>\n",
       "      <td>0.478750</td>\n",
       "      <td>1.500000</td>\n",
       "      <td>1.500000</td>\n",
       "      <td>0.198750</td>\n",
       "      <td>0.878750</td>\n",
       "    </tr>\n",
       "    <tr>\n",
       "      <th>7</th>\n",
       "      <td>Order</td>\n",
       "      <td>Melee</td>\n",
       "      <td>5.882353</td>\n",
       "      <td>1.941176</td>\n",
       "      <td>0.451765</td>\n",
       "      <td>0.980000</td>\n",
       "      <td>46.529412</td>\n",
       "      <td>149.411765</td>\n",
       "      <td>1.352941</td>\n",
       "      <td>2.117647</td>\n",
       "      <td>0.390588</td>\n",
       "      <td>0.430588</td>\n",
       "      <td>0.647059</td>\n",
       "      <td>1.117647</td>\n",
       "      <td>0.175882</td>\n",
       "      <td>0.440000</td>\n",
       "    </tr>\n",
       "  </tbody>\n",
       "</table>\n",
       "</div>"
      ],
      "text/plain": [
       "  Grand Alliance Weapon Type      Move    Wounds      Save   Bravery  \\\n",
       "0          Chaos     Missile  9.000000  2.000000  0.330000  1.000000   \n",
       "1          Death     Missile  8.000000  1.000000  0.330000  1.500000   \n",
       "2    Destruction     Missile  6.000000  4.000000  0.500000  1.000000   \n",
       "3          Order     Missile  7.333333  1.666667  0.386667  0.886667   \n",
       "4          Chaos       Melee  6.181818  1.272727  0.318182  0.924545   \n",
       "5          Death       Melee  6.000000  1.625000  0.333750  0.896250   \n",
       "6    Destruction       Melee  5.500000  2.625000  0.436250  0.873750   \n",
       "7          Order       Melee  5.882353  1.941176  0.451765  0.980000   \n",
       "\n",
       "       Price      Points      Range   Attacks    To Hit  To Wound      Rend  \\\n",
       "0  40.000000  140.000000  24.000000  2.000000  0.500000  0.415000  1.000000   \n",
       "1  50.000000   90.000000  12.000000  2.000000  0.330000  0.330000  1.000000   \n",
       "2  50.000000  160.000000  18.000000  1.000000  0.330000  0.500000  1.000000   \n",
       "3  43.333333  180.000000  24.000000  1.666667  0.443333  0.556667  1.000000   \n",
       "4  40.818182  132.727273   1.181818  1.727273  0.422727  0.422727  0.272727   \n",
       "5  45.000000  135.000000   1.375000  2.250000  0.352500  0.393750  0.375000   \n",
       "6  49.625000  177.500000   2.000000  2.625000  0.415000  0.478750  1.500000   \n",
       "7  46.529412  149.411765   1.352941  2.117647  0.390588  0.430588  0.647059   \n",
       "\n",
       "     Damage  To Hit & Wound  Expected Total Damage  \n",
       "0  2.500000        0.205000               0.970000  \n",
       "1  1.000000        0.110000               0.220000  \n",
       "2  1.000000        0.160000               0.160000  \n",
       "3  1.666667        0.250000               0.726667  \n",
       "4  1.000000        0.175455               0.324545  \n",
       "5  1.125000        0.140000               0.411250  \n",
       "6  1.500000        0.198750               0.878750  \n",
       "7  1.117647        0.175882               0.440000  "
      ]
     },
     "execution_count": 32,
     "metadata": {},
     "output_type": "execute_result"
    }
   ],
   "source": [
    "means_columns = ['Move', 'Wounds', 'Save', 'Bravery', 'Price', 'Points', 'Range', 'Attacks', 'To Hit', 'To Wound', 'Rend', 'Damage', 'To Hit & Wound', 'Expected Total Damage']\n",
    "\n",
    "missile_weapon_stats_alliance = sigmar[sigmar['Kind'] == 'Missile weapon'].groupby(['Grand Alliance'])[means_columns].mean().reset_index()\n",
    "melee_weapon_stats_alliance = sigmar[sigmar['Kind'] == 'Mele weapon'].groupby(['Grand Alliance'])[means_columns].mean().reset_index()\n",
    "\n",
    "missile_weapon_stats_alliance['Weapon Type'] = 'Missile'\n",
    "melee_weapon_stats_alliance['Weapon Type'] = 'Melee'\n",
    "\n",
    "combined_stats = pd.concat([missile_weapon_stats_alliance, melee_weapon_stats_alliance], ignore_index=True)\n",
    "\n",
    "column_order = ['Grand Alliance', 'Weapon Type'] + means_columns\n",
    "combined_stats = combined_stats[column_order]\n",
    "\n",
    "combined_stats\n"
   ]
  },
  {
   "cell_type": "markdown",
   "id": "bd96b5f9-8bbc-4f74-9e09-40a782a0bb6a",
   "metadata": {},
   "source": [
    "We are going to visually compare these metrics, starting with 'Wounds', 'Save', 'Bravery', 'Attacks', 'To Hit', 'To Wound', 'Rend', 'Damage', 'To Hit & Wound', 'Expected Total Damage', and then creating another set of four charts to compare 'Move', 'Price', 'Points', and 'Range'."
   ]
  },
  {
   "cell_type": "code",
   "execution_count": 33,
   "id": "17dba040-eeae-4319-b66b-e4c56e537c1b",
   "metadata": {},
   "outputs": [
    {
     "data": {
      "image/png": "[encoded data removed]",
      "text/plain": [
       "<Figure size 1500x1000 with 4 Axes>"
      ]
     },
     "metadata": {},
     "output_type": "display_data"
    }
   ],
   "source": [
    "categories = ['Wounds', 'Save', 'Bravery', 'Attacks', 'To Hit', 'To Wound', 'Rend', 'Damage', 'To Hit & Wound', 'Expected Total Damage']\n",
    "colors = {'Missile': 'blue', 'Melee': 'orange'}\n",
    "\n",
    "num_alliances = len(combined_stats['Grand Alliance'].unique())\n",
    "bar_width = 0.35\n",
    "index = np.arange(len(categories))\n",
    "\n",
    "fig, axes = plt.subplots(2, 2, figsize=(15, 10))\n",
    "\n",
    "for i, alliance in enumerate(combined_stats['Grand Alliance'].unique()):\n",
    "    row, col = divmod(i, 2)  # Calcula la fila y columna para el subplot\n",
    "    ax = axes[row, col]\n",
    "    \n",
    "    missile_means = combined_stats[(combined_stats['Grand Alliance'] == alliance) & (combined_stats['Weapon Type'] == 'Missile')][categories].values.flatten()\n",
    "    melee_means = combined_stats[(combined_stats['Grand Alliance'] == alliance) & (combined_stats['Weapon Type'] == 'Melee')][categories].values.flatten()\n",
    "    \n",
    "    bar1 = ax.bar(index, missile_means, bar_width, label='Missile', color=colors['Missile'])\n",
    "    bar2 = ax.bar(index + bar_width, melee_means, bar_width, label='Melee', color=colors['Melee'])\n",
    "    \n",
    "    ax.set_ylabel('Mean Values')\n",
    "    ax.set_title(f'Mean Values of Missile and Melee Units - {alliance}')\n",
    "    ax.set_xticks(index + bar_width / 2)\n",
    "    ax.set_xticklabels(categories, rotation='vertical')  # Rotar los nombres de las columnas verticalmente\n",
    "    ax.legend()\n",
    "\n",
    "    for bars in [bar1, bar2]:\n",
    "        for bar in bars:\n",
    "            yval = bar.get_height()\n",
    "            ax.text(bar.get_x() + bar.get_width()/2, yval, round(yval, 2), ha='center', va='bottom')\n",
    "\n",
    "plt.tight_layout()\n",
    "plt.show()"
   ]
  },
  {
   "cell_type": "markdown",
   "id": "f204d739-007e-4657-8d00-298e9ac7f095",
   "metadata": {},
   "source": [
    "**Analysis of these melee and missile unit variables for the Chaos alliance**"
   ]
  },
  {
   "cell_type": "markdown",
   "id": "9b27cdc9-2f5f-4dbe-b4a9-a87806843e89",
   "metadata": {},
   "source": [
    "Regarding the Chaos alliance, we observe that its missile units can endure more wounds, as well as having a greater number of attacks, higher damage, and a higher probability of penetrating the enemy's armor. Due to the combination of all these factors, the expected damage output is significantly higher among their missile units. Interestingly, the probability of dealing damage once they have hit the enemy is very similar."
   ]
  },
  {
   "cell_type": "markdown",
   "id": "7615e0d6-4d10-466d-915f-f40646ce3ac6",
   "metadata": {},
   "source": [
    "**Analysis of these melee and missile unit variables for the Death alliance**"
   ]
  },
  {
   "cell_type": "markdown",
   "id": "8d4e3248-43f8-44f4-b0a6-5da1911826ed",
   "metadata": {},
   "source": [
    "In contrast to Chaos, melee units can withstand more wounds, have a higher number of attacks, and higher probabilities in all phases of the attack, resulting in a total damage expectation that doubles that of missile units. On the other hand, missile units have higher bravery and armor penetration."
   ]
  },
  {
   "cell_type": "markdown",
   "id": "96d58632-b6e5-4901-8881-eb69de4b404b",
   "metadata": {},
   "source": [
    "**Analysis of these melee and missile unit variables for the Destruction alliance**"
   ]
  },
  {
   "cell_type": "markdown",
   "id": "6a7c16a6-4529-4bcb-a070-ddd3620f14d5",
   "metadata": {},
   "source": [
    "For this alliance, except for the values of wounds that can be resisted, where missile units stand out significantly, for all other values, melee units are either tied or stand out. It is the only alliance where the armor-penetration capability is superior in melee units. The number of attacks is almost triple, as is the damage they inflict, which is reflected in the total damage expectation."
   ]
  },
  {
   "cell_type": "markdown",
   "id": "0aa3c6ec-d7aa-43c4-85f8-1f50230dd324",
   "metadata": {},
   "source": [
    "**Analysis of these melee and missile unit variables for the Order alliance**"
   ]
  },
  {
   "cell_type": "markdown",
   "id": "f1544712-5ddd-408c-8c1d-961ef5753d09",
   "metadata": {},
   "source": [
    "It is an alliance where melee and missile units are quite balanced. Nevertheless, melee units can withstand more wounds and have a higher average number of attacks than missile units. For everything else, especially in the damage they cause and in the overall damage expectation, missile units stand out."
   ]
  },
  {
   "cell_type": "code",
   "execution_count": 34,
   "id": "48b5af97-b161-47df-8a36-b65487ba0259",
   "metadata": {},
   "outputs": [
    {
     "data": {
      "image/png": "[encoded data removed]",
      "text/plain": [
       "<Figure size 1500x1000 with 4 Axes>"
      ]
     },
     "metadata": {},
     "output_type": "display_data"
    }
   ],
   "source": [
    "categories = ['Move','Price', 'Points', 'Range']\n",
    "colors = {'Missile': 'blue', 'Melee': 'orange'}\n",
    "\n",
    "num_alliances = len(combined_stats['Grand Alliance'].unique())\n",
    "bar_width = 0.35\n",
    "index = np.arange(len(categories))\n",
    "\n",
    "fig, axes = plt.subplots(2, 2, figsize=(15, 10))\n",
    "\n",
    "for i, alliance in enumerate(combined_stats['Grand Alliance'].unique()):\n",
    "    row, col = divmod(i, 2)  # Calcula la fila y columna para el subplot\n",
    "    ax = axes[row, col]\n",
    "    \n",
    "    missile_means = combined_stats[(combined_stats['Grand Alliance'] == alliance) & (combined_stats['Weapon Type'] == 'Missile')][categories].values.flatten()\n",
    "    melee_means = combined_stats[(combined_stats['Grand Alliance'] == alliance) & (combined_stats['Weapon Type'] == 'Melee')][categories].values.flatten()\n",
    "    \n",
    "    bar1 = ax.bar(index, missile_means, bar_width, label='Missile', color=colors['Missile'])\n",
    "    bar2 = ax.bar(index + bar_width, melee_means, bar_width, label='Melee', color=colors['Melee'])\n",
    "    \n",
    "    ax.set_ylabel('Mean Values')\n",
    "    ax.set_title(f'Mean Values of Missile and Melee Units - {alliance}')\n",
    "    ax.set_xticks(index + bar_width / 2)\n",
    "    ax.set_xticklabels(categories, rotation='vertical')  # Rotar los nombres de las columnas verticalmente\n",
    "    ax.legend()\n",
    "\n",
    "    for bars in [bar1, bar2]:\n",
    "        for bar in bars:\n",
    "            yval = bar.get_height()\n",
    "            ax.text(bar.get_x() + bar.get_width()/2, yval, round(yval, 2), ha='center', va='bottom')\n",
    "\n",
    "plt.tight_layout()\n",
    "plt.show()"
   ]
  },
  {
   "cell_type": "markdown",
   "id": "b9ffd0e5-2d06-4949-9d8a-c3b78f1dfe49",
   "metadata": {},
   "source": [
    "For these metrics, we will overlook that the range is higher for missile units, but it is worth noting that in Chaos and Order units, it is almost double that of Destruction and Death units."
   ]
  },
  {
   "cell_type": "markdown",
   "id": "446eace9-13b4-469e-ba19-a12794f56b30",
   "metadata": {},
   "source": [
    "**Analysis of these melee and missile unit variables for the Chaos alliance**"
   ]
  },
  {
   "cell_type": "markdown",
   "id": "57f03f59-5a56-4add-a5f2-3a04fa4ce98d",
   "metadata": {},
   "source": [
    "They tend to be very balanced, although the missile units have a bit more movement and slightly more points than the melee units."
   ]
  },
  {
   "cell_type": "markdown",
   "id": "d568a337-2039-4d98-9cc2-f2976cfaa148",
   "metadata": {},
   "source": [
    "**Analysis of these melee and missile unit variables for the Death alliance**"
   ]
  },
  {
   "cell_type": "markdown",
   "id": "257d225b-3589-46d2-ad3a-a2d251d82d08",
   "metadata": {},
   "source": [
    "\n",
    "In terms of price and movement, the missile units are higher, but the melee units have a much higher point value (which could be considered a disadvantage, as it allows fewer units in your army) The missile units have higher movement.."
   ]
  },
  {
   "cell_type": "markdown",
   "id": "17922ded-1ac6-41c1-b853-9c8f3ae70bf4",
   "metadata": {},
   "source": [
    "**Analysis of these melee and missile unit variables for the Destruction alliance**"
   ]
  },
  {
   "cell_type": "markdown",
   "id": "94d3a9ee-9b64-4552-a5fc-298aa30ba2e9",
   "metadata": {},
   "source": [
    "They tend to be very balanced, although the mele units have a bit more movement and slightly more points than the melee units."
   ]
  },
  {
   "cell_type": "markdown",
   "id": "e0d27ae5-29e0-4464-a396-5c18c1f6ff3f",
   "metadata": {},
   "source": [
    "**Analysis of these melee and missile unit variables for the Order alliance**"
   ]
  },
  {
   "cell_type": "markdown",
   "id": "57db5f8e-9c10-4d5c-8251-ef8422780559",
   "metadata": {},
   "source": [
    "The missile units have higher movement.They also have many more points than the melee units. Otherwise, they are balanced."
   ]
  },
  {
   "cell_type": "markdown",
   "id": "f4d3075a-9f50-4788-abc8-5d09fbe731a4",
   "metadata": {},
   "source": [
    "### Standard Deviation of Misile/Mele weapons grouped by their Alliance"
   ]
  },
  {
   "cell_type": "markdown",
   "id": "89da6c0c-9955-4336-b16a-21e5428d6399",
   "metadata": {},
   "source": [
    "As there is a huge difference between the values on the columns, I thought about normalization, but it turned out that there was no standard deviation in the data after the normalization. Therefore, we will carefully analyze the data without normalizing"
   ]
  },
  {
   "cell_type": "markdown",
   "id": "2c595cff-4752-4aa4-9d7e-dc97e13907a6",
   "metadata": {},
   "source": [
    "This is the **failed normalization attempt**"
   ]
  },
  {
   "cell_type": "code",
   "execution_count": 39,
   "id": "1f5df8ed-ff32-4703-a4d4-70765dea4332",
   "metadata": {},
   "outputs": [],
   "source": [
    "# Create DataFrames for mele weapons for each alliance\n",
    "# chaos_mele_normalized = chaos_mele_weapons.copy()\n",
    "# chaos_mele_normalized[numeric_columns] = scaler.fit_transform(chaos_mele_weapons[numeric_columns])\n",
    "\n",
    "# death_mele_normalized = death_mele_weapons.copy()\n",
    "# death_mele_normalized[numeric_columns] = scaler.fit_transform(death_mele_weapons[numeric_columns])\n",
    "\n",
    "# destruction_mele_normalized = destruction_mele_weapons.copy()\n",
    "# destruction_mele_normalized[numeric_columns] = scaler.fit_transform(destruction_mele_weapons[numeric_columns])\n",
    "\n",
    "# order_mele_normalized = order_mele_weapons.copy()\n",
    "# order_mele_normalized[numeric_columns] = scaler.fit_transform(order_mele_weapons[numeric_columns])\n",
    "\n",
    "# Create DataFrames for missile weapons for each alliance\n",
    "# chaos_missile_normalized = chaos_missile_weapons.copy()\n",
    "# chaos_missile_normalized[numeric_columns] = scaler.fit_transform(chaos_missile_weapons[numeric_columns])\n",
    "\n",
    "# death_missile_normalized = death_missile_weapons.copy()\n",
    "# death_missile_normalized[numeric_columns] = scaler.fit_transform(death_missile_weapons[numeric_columns])\n",
    "\n",
    "# destruction_missile_normalized = destruction_missile_weapons.copy()\n",
    "# destruction_missile_normalized[numeric_columns] = scaler.fit_transform(destruction_missile_weapons[numeric_columns])\n",
    "\n",
    "# order_missile_normalized = order_missile_weapons.copy()\n",
    "# order_missile_normalized[numeric_columns] = scaler.fit_transform(order_missile_weapons[numeric_columns])\n"
   ]
  },
  {
   "cell_type": "markdown",
   "id": "44a643be-5a9e-4833-86b2-6c054f2767ab",
   "metadata": {},
   "source": [
    "#### Grouping data by alliances and weapon types"
   ]
  },
  {
   "cell_type": "code",
   "execution_count": 38,
   "id": "ecea3db6-fcb8-469e-acbc-7afced62bebe",
   "metadata": {},
   "outputs": [],
   "source": [
    "# First, let's prepare the data we want to examine by grouping them by alliances and separating them by weapon type\n",
    "\n",
    "chaos_mele_weapons = sigmar[(sigmar['Grand Alliance'] == 'Chaos') & (sigmar['Kind'] == 'Mele weapon')]\n",
    "death_mele_weapons = sigmar[(sigmar['Grand Alliance'] == 'Death') & (sigmar['Kind'] == 'Mele weapon')]\n",
    "destruction_mele_weapons = sigmar[(sigmar['Grand Alliance'] == 'Destruction') & (sigmar['Kind'] == 'Mele weapon')]\n",
    "order_mele_weapons = sigmar[(sigmar['Grand Alliance'] == 'Order') & (sigmar['Kind'] == 'Mele weapon')]\n",
    "\n",
    "chaos_missile_weapons = sigmar[(sigmar['Grand Alliance'] == 'Chaos') & (sigmar['Kind'] == 'Missile weapon')]\n",
    "death_missile_weapons = sigmar[(sigmar['Grand Alliance'] == 'Death') & (sigmar['Kind'] == 'Missile weapon')]\n",
    "destruction_missile_weapons = sigmar[(sigmar['Grand Alliance'] == 'Destruction') & (sigmar['Kind'] == 'Missile weapon')]\n",
    "order_missile_weapons = sigmar[(sigmar['Grand Alliance'] == 'Order') & (sigmar['Kind'] == 'Missile weapon')]"
   ]
  },
  {
   "cell_type": "markdown",
   "id": "ab3a3031-109d-4e87-8393-4bd78c7371e0",
   "metadata": {},
   "source": [
    "We are going to calculate the **standard deviation** for the values of the grand alliances, separating the melee and missile units"
   ]
  },
  {
   "cell_type": "code",
   "execution_count": 40,
   "id": "856b8597-c522-459e-8ebd-3f7c3316d656",
   "metadata": {},
   "outputs": [],
   "source": [
    "# Standard deviation for melee weapons\n",
    "chaos_mele_std = chaos_mele_weapons.select_dtypes(include=['float64', 'int64']).std()\n",
    "death_mele_std = death_mele_weapons.select_dtypes(include=['float64', 'int64']).std()\n",
    "destruction_mele_std = destruction_mele_weapons.select_dtypes(include=['float64', 'int64']).std()\n",
    "order_mele_std = order_mele_weapons.select_dtypes(include=['float64', 'int64']).std()\n",
    "\n",
    "# Standard deviation for missile weapons\n",
    "chaos_missile_std = chaos_missile_weapons.select_dtypes(include=['float64', 'int64']).std()\n",
    "death_missile_std = death_missile_weapons.select_dtypes(include=['float64', 'int64']).std()\n",
    "destruction_missile_std = destruction_missile_weapons.select_dtypes(include=['float64', 'int64']).std()\n",
    "order_missile_std = order_missile_weapons.select_dtypes(include=['float64', 'int64']).std()\n",
    "\n"
   ]
  },
  {
   "cell_type": "code",
   "execution_count": 41,
   "id": "f1bf56c8-3dca-48ea-a9e8-759f0a7922c8",
   "metadata": {},
   "outputs": [],
   "source": [
    "# Let's put it together\n",
    "mele_std_data = {\n",
    "    'Chaos': chaos_mele_std,\n",
    "    'Death': death_mele_std,\n",
    "    'Destruction': destruction_mele_std,\n",
    "    'Order': order_mele_std\n",
    "}\n",
    "\n",
    "alliances_mele_std = pd.DataFrame(mele_std_data)\n",
    "\n",
    "missile_std_data = {\n",
    "    'Chaos': chaos_missile_std,\n",
    "    'Death': death_missile_std,\n",
    "    'Destruction': destruction_missile_std,\n",
    "    'Order': order_missile_std\n",
    "}\n",
    "\n",
    "alliances_missile_std = pd.DataFrame(missile_std_data)"
   ]
  },
  {
   "cell_type": "markdown",
   "id": "62f0123d-e7c9-4371-955d-4e7d668190e1",
   "metadata": {},
   "source": [
    "#### Standard deviation of Melee units grouped by Alliances"
   ]
  },
  {
   "cell_type": "code",
   "execution_count": 42,
   "id": "266df0e7-75bf-4bd6-bc9b-d457d4b039e9",
   "metadata": {},
   "outputs": [
    {
     "data": {
      "text/html": [
       "<div>\n",
       "<style scoped>\n",
       "    .dataframe tbody tr th:only-of-type {\n",
       "        vertical-align: middle;\n",
       "    }\n",
       "\n",
       "    .dataframe tbody tr th {\n",
       "        vertical-align: top;\n",
       "    }\n",
       "\n",
       "    .dataframe thead th {\n",
       "        text-align: right;\n",
       "    }\n",
       "</style>\n",
       "<table border=\"1\" class=\"dataframe\">\n",
       "  <thead>\n",
       "    <tr style=\"text-align: right;\">\n",
       "      <th></th>\n",
       "      <th>Chaos</th>\n",
       "      <th>Death</th>\n",
       "      <th>Destruction</th>\n",
       "      <th>Order</th>\n",
       "    </tr>\n",
       "  </thead>\n",
       "  <tbody>\n",
       "    <tr>\n",
       "      <th>Move</th>\n",
       "      <td>3.341203</td>\n",
       "      <td>2.138090</td>\n",
       "      <td>1.309307</td>\n",
       "      <td>1.653872</td>\n",
       "    </tr>\n",
       "    <tr>\n",
       "      <th>Wounds</th>\n",
       "      <td>0.646670</td>\n",
       "      <td>1.187735</td>\n",
       "      <td>2.386719</td>\n",
       "      <td>1.088037</td>\n",
       "    </tr>\n",
       "    <tr>\n",
       "      <th>Save</th>\n",
       "      <td>0.136954</td>\n",
       "      <td>0.177759</td>\n",
       "      <td>0.087983</td>\n",
       "      <td>0.164250</td>\n",
       "    </tr>\n",
       "    <tr>\n",
       "      <th>Bravery</th>\n",
       "      <td>0.327395</td>\n",
       "      <td>0.435986</td>\n",
       "      <td>0.117709</td>\n",
       "      <td>0.155000</td>\n",
       "    </tr>\n",
       "    <tr>\n",
       "      <th>Price</th>\n",
       "      <td>9.141315</td>\n",
       "      <td>8.017837</td>\n",
       "      <td>10.266972</td>\n",
       "      <td>9.881281</td>\n",
       "    </tr>\n",
       "    <tr>\n",
       "      <th>Points</th>\n",
       "      <td>41.253099</td>\n",
       "      <td>46.598590</td>\n",
       "      <td>53.917927</td>\n",
       "      <td>53.206037</td>\n",
       "    </tr>\n",
       "    <tr>\n",
       "      <th>Range</th>\n",
       "      <td>0.404520</td>\n",
       "      <td>0.517549</td>\n",
       "      <td>0.755929</td>\n",
       "      <td>0.492592</td>\n",
       "    </tr>\n",
       "    <tr>\n",
       "      <th>Attacks</th>\n",
       "      <td>0.646670</td>\n",
       "      <td>0.886405</td>\n",
       "      <td>0.744024</td>\n",
       "      <td>0.781213</td>\n",
       "    </tr>\n",
       "    <tr>\n",
       "      <th>To Hit</th>\n",
       "      <td>0.088780</td>\n",
       "      <td>0.106469</td>\n",
       "      <td>0.090869</td>\n",
       "      <td>0.131742</td>\n",
       "    </tr>\n",
       "    <tr>\n",
       "      <th>To Wound</th>\n",
       "      <td>0.088780</td>\n",
       "      <td>0.087983</td>\n",
       "      <td>0.060104</td>\n",
       "      <td>0.103530</td>\n",
       "    </tr>\n",
       "    <tr>\n",
       "      <th>Rend</th>\n",
       "      <td>0.467099</td>\n",
       "      <td>0.744024</td>\n",
       "      <td>0.755929</td>\n",
       "      <td>0.785905</td>\n",
       "    </tr>\n",
       "    <tr>\n",
       "      <th>Damage</th>\n",
       "      <td>0.000000</td>\n",
       "      <td>0.353553</td>\n",
       "      <td>0.755929</td>\n",
       "      <td>0.332106</td>\n",
       "    </tr>\n",
       "    <tr>\n",
       "      <th>To Hit &amp; Wound</th>\n",
       "      <td>0.051646</td>\n",
       "      <td>0.056569</td>\n",
       "      <td>0.057181</td>\n",
       "      <td>0.074167</td>\n",
       "    </tr>\n",
       "    <tr>\n",
       "      <th>Expected Total Damage</th>\n",
       "      <td>0.197199</td>\n",
       "      <td>0.402756</td>\n",
       "      <td>0.690950</td>\n",
       "      <td>0.286531</td>\n",
       "    </tr>\n",
       "  </tbody>\n",
       "</table>\n",
       "</div>"
      ],
      "text/plain": [
       "                           Chaos      Death  Destruction      Order\n",
       "Move                    3.341203   2.138090     1.309307   1.653872\n",
       "Wounds                  0.646670   1.187735     2.386719   1.088037\n",
       "Save                    0.136954   0.177759     0.087983   0.164250\n",
       "Bravery                 0.327395   0.435986     0.117709   0.155000\n",
       "Price                   9.141315   8.017837    10.266972   9.881281\n",
       "Points                 41.253099  46.598590    53.917927  53.206037\n",
       "Range                   0.404520   0.517549     0.755929   0.492592\n",
       "Attacks                 0.646670   0.886405     0.744024   0.781213\n",
       "To Hit                  0.088780   0.106469     0.090869   0.131742\n",
       "To Wound                0.088780   0.087983     0.060104   0.103530\n",
       "Rend                    0.467099   0.744024     0.755929   0.785905\n",
       "Damage                  0.000000   0.353553     0.755929   0.332106\n",
       "To Hit & Wound          0.051646   0.056569     0.057181   0.074167\n",
       "Expected Total Damage   0.197199   0.402756     0.690950   0.286531"
      ]
     },
     "execution_count": 42,
     "metadata": {},
     "output_type": "execute_result"
    }
   ],
   "source": [
    "alliances_mele_std"
   ]
  },
  {
   "cell_type": "markdown",
   "id": "b6ffcbbe-173c-41a5-96b6-6d1d125d2196",
   "metadata": {},
   "source": [
    "#### Standard deviation of Missile units by Alliances"
   ]
  },
  {
   "cell_type": "code",
   "execution_count": 43,
   "id": "1b65b47f-576f-4fe3-9444-2f7f0ed8b536",
   "metadata": {},
   "outputs": [
    {
     "data": {
      "text/html": [
       "<div>\n",
       "<style scoped>\n",
       "    .dataframe tbody tr th:only-of-type {\n",
       "        vertical-align: middle;\n",
       "    }\n",
       "\n",
       "    .dataframe tbody tr th {\n",
       "        vertical-align: top;\n",
       "    }\n",
       "\n",
       "    .dataframe thead th {\n",
       "        text-align: right;\n",
       "    }\n",
       "</style>\n",
       "<table border=\"1\" class=\"dataframe\">\n",
       "  <thead>\n",
       "    <tr style=\"text-align: right;\">\n",
       "      <th></th>\n",
       "      <th>Chaos</th>\n",
       "      <th>Death</th>\n",
       "      <th>Destruction</th>\n",
       "      <th>Order</th>\n",
       "    </tr>\n",
       "  </thead>\n",
       "  <tbody>\n",
       "    <tr>\n",
       "      <th>Move</th>\n",
       "      <td>4.242641</td>\n",
       "      <td>NaN</td>\n",
       "      <td>NaN</td>\n",
       "      <td>4.041452</td>\n",
       "    </tr>\n",
       "    <tr>\n",
       "      <th>Wounds</th>\n",
       "      <td>1.414214</td>\n",
       "      <td>NaN</td>\n",
       "      <td>NaN</td>\n",
       "      <td>0.577350</td>\n",
       "    </tr>\n",
       "    <tr>\n",
       "      <th>Save</th>\n",
       "      <td>0.000000</td>\n",
       "      <td>NaN</td>\n",
       "      <td>NaN</td>\n",
       "      <td>0.098150</td>\n",
       "    </tr>\n",
       "    <tr>\n",
       "      <th>Bravery</th>\n",
       "      <td>0.707107</td>\n",
       "      <td>NaN</td>\n",
       "      <td>NaN</td>\n",
       "      <td>0.098150</td>\n",
       "    </tr>\n",
       "    <tr>\n",
       "      <th>Price</th>\n",
       "      <td>7.071068</td>\n",
       "      <td>NaN</td>\n",
       "      <td>NaN</td>\n",
       "      <td>17.559423</td>\n",
       "    </tr>\n",
       "    <tr>\n",
       "      <th>Points</th>\n",
       "      <td>42.426407</td>\n",
       "      <td>NaN</td>\n",
       "      <td>NaN</td>\n",
       "      <td>70.000000</td>\n",
       "    </tr>\n",
       "    <tr>\n",
       "      <th>Range</th>\n",
       "      <td>8.485281</td>\n",
       "      <td>NaN</td>\n",
       "      <td>NaN</td>\n",
       "      <td>10.392305</td>\n",
       "    </tr>\n",
       "    <tr>\n",
       "      <th>Attacks</th>\n",
       "      <td>1.414214</td>\n",
       "      <td>NaN</td>\n",
       "      <td>NaN</td>\n",
       "      <td>0.577350</td>\n",
       "    </tr>\n",
       "    <tr>\n",
       "      <th>To Hit</th>\n",
       "      <td>0.000000</td>\n",
       "      <td>NaN</td>\n",
       "      <td>NaN</td>\n",
       "      <td>0.098150</td>\n",
       "    </tr>\n",
       "    <tr>\n",
       "      <th>To Wound</th>\n",
       "      <td>0.120208</td>\n",
       "      <td>NaN</td>\n",
       "      <td>NaN</td>\n",
       "      <td>0.098150</td>\n",
       "    </tr>\n",
       "    <tr>\n",
       "      <th>Rend</th>\n",
       "      <td>1.414214</td>\n",
       "      <td>NaN</td>\n",
       "      <td>NaN</td>\n",
       "      <td>1.000000</td>\n",
       "    </tr>\n",
       "    <tr>\n",
       "      <th>Damage</th>\n",
       "      <td>0.707107</td>\n",
       "      <td>NaN</td>\n",
       "      <td>NaN</td>\n",
       "      <td>0.577350</td>\n",
       "    </tr>\n",
       "    <tr>\n",
       "      <th>To Hit &amp; Wound</th>\n",
       "      <td>0.063640</td>\n",
       "      <td>NaN</td>\n",
       "      <td>NaN</td>\n",
       "      <td>0.090000</td>\n",
       "    </tr>\n",
       "    <tr>\n",
       "      <th>Expected Total Damage</th>\n",
       "      <td>0.664680</td>\n",
       "      <td>NaN</td>\n",
       "      <td>NaN</td>\n",
       "      <td>0.555818</td>\n",
       "    </tr>\n",
       "  </tbody>\n",
       "</table>\n",
       "</div>"
      ],
      "text/plain": [
       "                           Chaos  Death  Destruction      Order\n",
       "Move                    4.242641    NaN          NaN   4.041452\n",
       "Wounds                  1.414214    NaN          NaN   0.577350\n",
       "Save                    0.000000    NaN          NaN   0.098150\n",
       "Bravery                 0.707107    NaN          NaN   0.098150\n",
       "Price                   7.071068    NaN          NaN  17.559423\n",
       "Points                 42.426407    NaN          NaN  70.000000\n",
       "Range                   8.485281    NaN          NaN  10.392305\n",
       "Attacks                 1.414214    NaN          NaN   0.577350\n",
       "To Hit                  0.000000    NaN          NaN   0.098150\n",
       "To Wound                0.120208    NaN          NaN   0.098150\n",
       "Rend                    1.414214    NaN          NaN   1.000000\n",
       "Damage                  0.707107    NaN          NaN   0.577350\n",
       "To Hit & Wound          0.063640    NaN          NaN   0.090000\n",
       "Expected Total Damage   0.664680    NaN          NaN   0.555818"
      ]
     },
     "execution_count": 43,
     "metadata": {},
     "output_type": "execute_result"
    }
   ],
   "source": [
    "alliances_missile_std"
   ]
  },
  {
   "cell_type": "markdown",
   "id": "e41182e1-bfc3-42a8-88a6-efde18d809ca",
   "metadata": {},
   "source": [
    "#### Interpretation"
   ]
  },
  {
   "cell_type": "markdown",
   "id": "5c2747ca-655a-41c5-8f5a-2a27a6d215ee",
   "metadata": {},
   "source": [
    "**Mele units**"
   ]
  },
  {
   "cell_type": "markdown",
   "id": "b45c0156-6b18-4da6-af8f-c0239cfcd128",
   "metadata": {},
   "source": [
    "Move: Chaos has the highest variability, indicating diverse mobility.  \n",
    "Wounds: Destruction units show the most variability, suggesting a broad range of durability.  \n",
    "Save: Chaos and Order are relatively stable, while Death and Destruction vary more.  \n",
    "Points & Price: High standard deviations in all alliances, especially Order.  \n",
    "Range: Consistent across factions.  \n",
    "Attacks: Chaos and Death show slightly higher variability.  \n",
    "To Hit & To Wound: Generally stable across alliances.  \n",
    "Rend & Damage: Moderate variability, especially in Destruction."
   ]
  },
  {
   "cell_type": "markdown",
   "id": "b286e815-c54a-40b1-b4b3-76b2f93823e5",
   "metadata": {},
   "source": [
    "**Missile units**"
   ]
  },
  {
   "cell_type": "markdown",
   "id": "57ed893c-5742-4dc7-be5b-dcef331426af",
   "metadata": {},
   "source": [
    "Move: Significant variability in Chaos and Order, limited data for Death.  \r\n",
    "Wounds, Save, Bravery: Limited data for Death, low variability in available data  Chaos."
   ]
  },
  {
   "cell_type": "markdown",
   "id": "32edae81-e2d3-4bba-bda6-c0b8f8723d87",
   "metadata": {},
   "source": [
    "Points & Price: High standard deviations in all alliances, especially Order.  \n",
    "Range: Extremely high variability, especially in Chaos.  \n",
    "Attacks: Limited data for Death, moderate variability elsewhere.  \n",
    "To Hit & To Wound: Generally stable across alliances.  \n",
    "Rend & Damage: Moderate variability, especially in Chaos.  "
   ]
  },
  {
   "cell_type": "markdown",
   "id": "c03fff6d-5837-427a-99bd-b05a576ad92a",
   "metadata": {},
   "source": [
    "Overall, the analysis indicates that there are some consistent patterns in both melee and missile units across different alliances, but certain factors, such as range and points/prices, exhibit high variability, especially in Order and Chaos factions. Additionally, Destruction units show noteworthy variability in both melee and missile categories."
   ]
  },
  {
   "cell_type": "markdown",
   "id": "8a7c219b-62eb-4b57-817b-eb292509f482",
   "metadata": {},
   "source": [
    "## Comparative Analysis of 'Expected Total Damage' through Hypothesis Testing: Shapiro-Wilk, Kruskal-Wallis, ANOVA, and Tukey"
   ]
  },
  {
   "cell_type": "markdown",
   "id": "a8826d53-deef-4ed9-bf59-4e177c58018a",
   "metadata": {},
   "source": [
    "#### Introduction"
   ]
  },
  {
   "cell_type": "markdown",
   "id": "c2738191-ca65-4716-a6d7-e2aef7e56359",
   "metadata": {},
   "source": [
    "In this analysis, we aim to investigate whether there are significant differences in the 'Expected Total Damage' across various factions in Age of Sigmar units. The primary focus is on understanding how the choice of faction may impact the expected damage output."
   ]
  },
  {
   "cell_type": "markdown",
   "id": "d8371c13-6442-4832-8afb-0ecae6d5fe27",
   "metadata": {},
   "source": [
    "#### Hypotheses:"
   ]
  },
  {
   "cell_type": "markdown",
   "id": "15d407f1-e9b7-4ca6-84bb-363d6dd26444",
   "metadata": {},
   "source": [
    "**Null Hypothesis (H0)**: The medians of 'Expected Total Damage' are equal across all factions.  \n",
    "**Alternative Hypothesis (H1)**: At least one faction has a different median 'Expected Total Damage' compared to the others."
   ]
  },
  {
   "cell_type": "markdown",
   "id": "0ab0eaa5-fb2d-41ad-9a86-5604b995a026",
   "metadata": {},
   "source": [
    "#### Methodology"
   ]
  },
  {
   "cell_type": "markdown",
   "id": "6d49503b-8bd9-4e62-a6d9-e009b1513935",
   "metadata": {},
   "source": [
    "**Data Collection:**  The dataset consists of information on different Age of Sigmar units, including their faction and 'Expected Total Damage.'  "
   ]
  },
  {
   "cell_type": "markdown",
   "id": "b03cd839-e2df-4924-8da8-cb4390930922",
   "metadata": {},
   "source": [
    "**Data Exploration:**  Preliminary examination of the dataset to identify factions and their corresponding 'Expected Total Damage' values.  "
   ]
  },
  {
   "cell_type": "markdown",
   "id": "ce36c45c-65a7-47c5-a645-5b2598c35c4a",
   "metadata": {},
   "source": [
    "**Assumptions:**  We assume that 'Expected Total Damage' follows a continuous distribution.  The data within each faction is independent and identically distributed.  The variance of 'Expected Total Damage' is consistent across all factions.  "
   ]
  },
  {
   "cell_type": "markdown",
   "id": "3bdd3192-932d-49f5-88de-86639df51c18",
   "metadata": {},
   "source": [
    "**Statistical Tests:**  "
   ]
  },
  {
   "cell_type": "markdown",
   "id": "e462c7bf-2e46-4249-a98e-b977d1bff3f6",
   "metadata": {},
   "source": [
    "**Normality Check:** Shapiro-Wilk test is applied to assess the normality of 'Expected Total Damage' within each faction. Some factions with insufficient data may not undergo normality testing."
   ]
  },
  {
   "cell_type": "markdown",
   "id": "951629a5-d8d4-4c59-a2ae-106e52a5842c",
   "metadata": {},
   "source": [
    "**Homogeneity of Variances:** Levene's test is utilized to verify the equality of variances across factions. "
   ]
  },
  {
   "cell_type": "markdown",
   "id": "c1230375-5ce9-49f7-a3dc-cbc06e7958d1",
   "metadata": {},
   "source": [
    " **Analysis Plan:** If normality and homogeneity assumptions hold:  Perform ANOVA to compare means across factions.  If ANOVA indicates significant differences, proceed with Tukey's HSD test for pairwise comparisons.  If assumptions are violated:  Apply Kruskal-Wallis test as a non-parametric alternative to ANOVA."
   ]
  },
  {
   "cell_type": "code",
   "execution_count": 51,
   "id": "d298d01d-4166-4e52-844f-78c8bb5ef3d5",
   "metadata": {},
   "outputs": [
    {
     "name": "stdout",
     "output_type": "stream",
     "text": [
      "Group Beasts does not have enough data points for Shapiro-Wilk test.\n",
      "Group Daughters of Khaine does not have enough data points for Shapiro-Wilk test.\n",
      "Group Flesh-eater courts does not have enough data points for Shapiro-Wilk test.\n",
      "Shapiro-Wilk test for Free cities: p-value = 0.324060320854187\n",
      "Group Fyreslayers does not have enough data points for Shapiro-Wilk test.\n",
      "Shapiro-Wilk test for Gloomspite Gitz: p-value = 1.3144705723888706e-07\n",
      "Shapiro-Wilk test for Ironjawz: p-value = 0.9041974952626286\n",
      "Group Kharadron Overlords does not have enough data points for Shapiro-Wilk test.\n",
      "Shapiro-Wilk test for Khorne: p-value = 1.3144705723888706e-07\n",
      "Group Legions of Nagash does not have enough data points for Shapiro-Wilk test.\n",
      "Shapiro-Wilk test for Nighthaunt: p-value = 1.3144705723888706e-07\n",
      "Group Nurgle does not have enough data points for Shapiro-Wilk test.\n",
      "Shapiro-Wilk test for Ogor Mawtribes: p-value = 0.6914362815238813\n",
      "Shapiro-Wilk test for Seraphon: p-value = 0.6939055024019467\n",
      "Shapiro-Wilk test for Skaven: p-value = 0.9152384583998207\n",
      "Group Slaves to Darkness does not have enough data points for Shapiro-Wilk test.\n",
      "Shapiro-Wilk test for Soulblight Gravelords: p-value = 0.2830787372188116\n",
      "Shapiro-Wilk test for Stormcast Eternals: p-value = 0.6836199760437012\n",
      "Shapiro-Wilk test for Sylvaneth: p-value = 0.11102717369794846\n",
      "Shapiro-Wilk test for Tzeentch: p-value = 0.5455456972122192\n",
      "Levene test for homogeneity of variances: p-value = 0.20232324942807717\n",
      "Kruskal-Wallis test: p-value = 0.4613999424563143\n"
     ]
    }
   ],
   "source": [
    "from scipy.stats import shapiro, levene, kruskal\n",
    "\n",
    "column_of_interest = 'Expected Total Damage'\n",
    "alpha = 0.05\n",
    "\n",
    "for faction, group in sigmar.groupby('Faction'):\n",
    "    group_size = len(group[column_of_interest])\n",
    "    \n",
    "    if group_size < 3:\n",
    "        print(f'Group {faction} does not have enough data points for Shapiro-Wilk test.')\n",
    "    else:\n",
    "        _, p_value_norm = shapiro(group[column_of_interest])\n",
    "        print(f'Shapiro-Wilk test for {faction}: p-value = {p_value_norm}')\n",
    "\n",
    "levene_stat, p_value_levene = levene(*[group[column_of_interest].values for name, group in sigmar.groupby('Faction')])\n",
    "print(f'Levene test for homogeneity of variances: p-value = {p_value_levene}')\n",
    "\n",
    "if any(group_size < 3 for _, group_size in [(faction, len(group[column_of_interest])) for faction, group in sigmar.groupby('Faction')]) or p_value_levene < alpha:\n",
    "    kruskal_stat, p_value_kruskal = kruskal(*[group[column_of_interest].values for name, group in sigmar.groupby('Faction')])\n",
    "    print(f'Kruskal-Wallis test: p-value = {p_value_kruskal}')\n",
    "else:\n",
    "    # ANOVA\n",
    "    f_statistic, p_value_anova = stats.f_oneway(*[group[column_of_interest].values for name, group in sigmar.groupby('Faction')])\n",
    "    print(f'ANOVA test: p-value = {p_value_anova}')\n",
    "    \n",
    "    # Tukey Analysis\n",
    "    if p_value_anova < alpha:\n",
    "        tukey_results = pairwise_tukeyhsd(sigmar[column_of_interest], sigmar['Faction'])\n",
    "        print(tukey_results)\n"
   ]
  },
  {
   "cell_type": "markdown",
   "id": "07d81d9d-d08c-48e7-ab79-850507ac40bb",
   "metadata": {},
   "source": [
    "### Results"
   ]
  },
  {
   "cell_type": "markdown",
   "id": "67378f31-d84f-4ae8-863a-e6ff471d89b3",
   "metadata": {},
   "source": [
    "**Normality Tests (Shapiro-Wilk)**  \r\n",
    "Variable Results: Some factions, like 'Gloomspite Gitz', 'Khorne', and 'Nighthaunt', showed extremely low p-values, indicating their data does not follow a normal distribution. However, other factions such as 'Ironjawz', 'Ogor Mawtribes', 'Seraphon', 'Skaven', 'Soulblight Gravelords', 'Stormcast Eternals', 'Sylvaneth', and 'Tzeentch' showed higher p-values, suggesting their data might be normal others."
   ]
  },
  {
   "cell_type": "markdown",
   "id": "97c84d15-b617-4601-9e1e-5d5a8a297391",
   "metadata": {},
   "source": [
    "Implications: The mix of normal and non-normal results suggests not all groups follow the same distribution, which is important for deciding which statistical test to use."
   ]
  },
  {
   "cell_type": "markdown",
   "id": "681faa4a-16f1-46ba-8295-aaf0c15d8b3f",
   "metadata": {},
   "source": [
    "**Homogeneity of Variances Test (Levene)**  \n",
    "Result: A p-value of 0.2023 indicates there isn't enough evidence to reject the null hypothesis of equal variances among factions."
   ]
  },
  {
   "cell_type": "markdown",
   "id": "b22e1db3-1a92-4d43-b980-5d6e66f9c4a6",
   "metadata": {},
   "source": [
    "Implications: This suggests the variances of 'Expected Total Damage' are similar across factions, which is an important assumption for certain statistical tests."
   ]
  },
  {
   "cell_type": "markdown",
   "id": "8ce3198e-7c31-4052-90f9-deb0ed15272b",
   "metadata": {},
   "source": [
    "**Means Comparison Test (Kruskal-Wallis)**  \n",
    "Result: A p-value of 0.4614 suggests there are no significant differences between the medians of 'Expected Total Damage' across different factions.\n",
    "Implications: This result indicates there isn't enough evidence to claim that any faction has a significantly different 'Expected Total Damage' from the others."
   ]
  },
  {
   "cell_type": "markdown",
   "id": "a08da116-b83c-47e7-b66a-6f60c2cf2112",
   "metadata": {},
   "source": [
    "### Conclusions"
   ]
  },
  {
   "cell_type": "markdown",
   "id": "901af54e-6dc3-4849-a7a1-5a9a65390252",
   "metadata": {},
   "source": [
    "**Differences Among Factions**: No statistically significant differences were found in the 'Expected Total Damage' across factions. This means that, based on the analyzed data, the choice of faction does not appear to have a significant impact on expected damage."
   ]
  },
  {
   "cell_type": "markdown",
   "id": "80733b8d-be1b-4654-954d-3cad7eb63d6e",
   "metadata": {},
   "source": [
    "**Data Normality**: Some factions did not follow a normal distribution. This is relevant as it affects the type of statistical test that can be most appropriately used."
   ]
  },
  {
   "cell_type": "markdown",
   "id": "4c2d5ec7-b884-4a13-b7c3-ce86a3eaa0de",
   "metadata": {},
   "source": [
    "**Homogeneity of Variances**: The Levene's test did not show significant differences in variances between factions, indicating this assumption for tests like ANOVA holds."
   ]
  },
  {
   "cell_type": "markdown",
   "id": "a645bfda-c425-4c6b-b118-03b347b2281c",
   "metadata": {},
   "source": [
    "**Choice of Statistical Tests**: Given that not all factions followed a normal distribution and some had small sample sizes, it was appropriate to use the Kruskal-Wallis test, a non-parametric test, instead of ANOVA."
   ]
  }
 ],
 "metadata": {
  "kernelspec": {
   "display_name": "myenv_geopandas",
   "language": "python",
   "name": "myenv_geopandas"
  },
  "language_info": {
   "codemirror_mode": {
    "name": "ipython",
    "version": 3
   },
   "file_extension": ".py",
   "mimetype": "text/x-python",
   "name": "python",
   "nbconvert_exporter": "python",
   "pygments_lexer": "ipython3",
   "version": "3.12.1"
  }
 },
 "nbformat": 4,
 "nbformat_minor": 5
}
